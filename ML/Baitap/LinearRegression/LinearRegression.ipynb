{
  "nbformat": 4,
  "nbformat_minor": 0,
  "metadata": {
    "colab": {
      "name": "LinearRegression.ipynb",
      "provenance": [],
      "collapsed_sections": [],
      "authorship_tag": "ABX9TyOiYAM1pohKZwcavUD6o41t",
      "include_colab_link": true
    },
    "kernelspec": {
      "name": "python3",
      "display_name": "Python 3"
    }
  },
  "cells": [
    {
      "cell_type": "markdown",
      "metadata": {
        "id": "view-in-github",
        "colab_type": "text"
      },
      "source": [
        "<a href=\"https://colab.research.google.com/github/ndtuan10/MachineLearning-and-ComputerVision/blob/main/ML/Baitap/LinearRegression/LinearRegression.ipynb\" target=\"_parent\"><img src=\"https://colab.research.google.com/assets/colab-badge.svg\" alt=\"Open In Colab\"/></a>"
      ]
    },
    {
      "cell_type": "code",
      "metadata": {
        "id": "RILG4Xe96Ycu",
        "colab": {
          "base_uri": "https://localhost:8080/",
          "height": 34
        },
        "outputId": "b0bdf3a4-7db7-494c-e4a2-17274841d4c9"
      },
      "source": [
        "from google.colab import drive\n",
        "drive.mount('/content/drive')"
      ],
      "execution_count": null,
      "outputs": [
        {
          "output_type": "stream",
          "text": [
            "Drive already mounted at /content/drive; to attempt to forcibly remount, call drive.mount(\"/content/drive\", force_remount=True).\n"
          ],
          "name": "stdout"
        }
      ]
    },
    {
      "cell_type": "code",
      "metadata": {
        "id": "Tr_HEjXm7Fve"
      },
      "source": [
        "import numpy as np\n",
        "import pandas as pd\n",
        "import matplotlib.pyplot as plt\n",
        "import seaborn as sns\n",
        "import os"
      ],
      "execution_count": null,
      "outputs": []
    },
    {
      "cell_type": "code",
      "metadata": {
        "id": "FbuQuXLk7YRX"
      },
      "source": [
        "path_dir = '/content/drive/My Drive/CS114/dataset/heart disease UCI'\n",
        "path_filename = path_dir+'/heart.csv'"
      ],
      "execution_count": null,
      "outputs": []
    },
    {
      "cell_type": "code",
      "metadata": {
        "id": "0DTAHrkS87i4"
      },
      "source": [
        "data = pd.read_csv(path_filename)"
      ],
      "execution_count": null,
      "outputs": []
    },
    {
      "cell_type": "code",
      "metadata": {
        "id": "tQowu7P_9EpL",
        "colab": {
          "base_uri": "https://localhost:8080/",
          "height": 195
        },
        "outputId": "4b32a31c-77a8-471d-e207-7be06d8b95f5"
      },
      "source": [
        "data.head()"
      ],
      "execution_count": null,
      "outputs": [
        {
          "output_type": "execute_result",
          "data": {
            "text/html": [
              "<div>\n",
              "<style scoped>\n",
              "    .dataframe tbody tr th:only-of-type {\n",
              "        vertical-align: middle;\n",
              "    }\n",
              "\n",
              "    .dataframe tbody tr th {\n",
              "        vertical-align: top;\n",
              "    }\n",
              "\n",
              "    .dataframe thead th {\n",
              "        text-align: right;\n",
              "    }\n",
              "</style>\n",
              "<table border=\"1\" class=\"dataframe\">\n",
              "  <thead>\n",
              "    <tr style=\"text-align: right;\">\n",
              "      <th></th>\n",
              "      <th>age</th>\n",
              "      <th>sex</th>\n",
              "      <th>cp</th>\n",
              "      <th>trestbps</th>\n",
              "      <th>chol</th>\n",
              "      <th>fbs</th>\n",
              "      <th>restecg</th>\n",
              "      <th>thalach</th>\n",
              "      <th>exang</th>\n",
              "      <th>oldpeak</th>\n",
              "      <th>slope</th>\n",
              "      <th>ca</th>\n",
              "      <th>thal</th>\n",
              "      <th>target</th>\n",
              "    </tr>\n",
              "  </thead>\n",
              "  <tbody>\n",
              "    <tr>\n",
              "      <th>0</th>\n",
              "      <td>63</td>\n",
              "      <td>1</td>\n",
              "      <td>3</td>\n",
              "      <td>145</td>\n",
              "      <td>233</td>\n",
              "      <td>1</td>\n",
              "      <td>0</td>\n",
              "      <td>150</td>\n",
              "      <td>0</td>\n",
              "      <td>2.3</td>\n",
              "      <td>0</td>\n",
              "      <td>0</td>\n",
              "      <td>1</td>\n",
              "      <td>1</td>\n",
              "    </tr>\n",
              "    <tr>\n",
              "      <th>1</th>\n",
              "      <td>37</td>\n",
              "      <td>1</td>\n",
              "      <td>2</td>\n",
              "      <td>130</td>\n",
              "      <td>250</td>\n",
              "      <td>0</td>\n",
              "      <td>1</td>\n",
              "      <td>187</td>\n",
              "      <td>0</td>\n",
              "      <td>3.5</td>\n",
              "      <td>0</td>\n",
              "      <td>0</td>\n",
              "      <td>2</td>\n",
              "      <td>1</td>\n",
              "    </tr>\n",
              "    <tr>\n",
              "      <th>2</th>\n",
              "      <td>41</td>\n",
              "      <td>0</td>\n",
              "      <td>1</td>\n",
              "      <td>130</td>\n",
              "      <td>204</td>\n",
              "      <td>0</td>\n",
              "      <td>0</td>\n",
              "      <td>172</td>\n",
              "      <td>0</td>\n",
              "      <td>1.4</td>\n",
              "      <td>2</td>\n",
              "      <td>0</td>\n",
              "      <td>2</td>\n",
              "      <td>1</td>\n",
              "    </tr>\n",
              "    <tr>\n",
              "      <th>3</th>\n",
              "      <td>56</td>\n",
              "      <td>1</td>\n",
              "      <td>1</td>\n",
              "      <td>120</td>\n",
              "      <td>236</td>\n",
              "      <td>0</td>\n",
              "      <td>1</td>\n",
              "      <td>178</td>\n",
              "      <td>0</td>\n",
              "      <td>0.8</td>\n",
              "      <td>2</td>\n",
              "      <td>0</td>\n",
              "      <td>2</td>\n",
              "      <td>1</td>\n",
              "    </tr>\n",
              "    <tr>\n",
              "      <th>4</th>\n",
              "      <td>57</td>\n",
              "      <td>0</td>\n",
              "      <td>0</td>\n",
              "      <td>120</td>\n",
              "      <td>354</td>\n",
              "      <td>0</td>\n",
              "      <td>1</td>\n",
              "      <td>163</td>\n",
              "      <td>1</td>\n",
              "      <td>0.6</td>\n",
              "      <td>2</td>\n",
              "      <td>0</td>\n",
              "      <td>2</td>\n",
              "      <td>1</td>\n",
              "    </tr>\n",
              "  </tbody>\n",
              "</table>\n",
              "</div>"
            ],
            "text/plain": [
              "   age  sex  cp  trestbps  chol  fbs  ...  exang  oldpeak  slope  ca  thal  target\n",
              "0   63    1   3       145   233    1  ...      0      2.3      0   0     1       1\n",
              "1   37    1   2       130   250    0  ...      0      3.5      0   0     2       1\n",
              "2   41    0   1       130   204    0  ...      0      1.4      2   0     2       1\n",
              "3   56    1   1       120   236    0  ...      0      0.8      2   0     2       1\n",
              "4   57    0   0       120   354    0  ...      1      0.6      2   0     2       1\n",
              "\n",
              "[5 rows x 14 columns]"
            ]
          },
          "metadata": {
            "tags": []
          },
          "execution_count": 26
        }
      ]
    },
    {
      "cell_type": "code",
      "metadata": {
        "id": "tKNJlT929qy0",
        "colab": {
          "base_uri": "https://localhost:8080/",
          "height": 34
        },
        "outputId": "8d67d345-87fa-4e85-e269-008277b19e2b"
      },
      "source": [
        "data.shape"
      ],
      "execution_count": null,
      "outputs": [
        {
          "output_type": "execute_result",
          "data": {
            "text/plain": [
              "(303, 14)"
            ]
          },
          "metadata": {
            "tags": []
          },
          "execution_count": 27
        }
      ]
    },
    {
      "cell_type": "code",
      "metadata": {
        "id": "UtyfobhTPKfh",
        "colab": {
          "base_uri": "https://localhost:8080/",
          "height": 514
        },
        "outputId": "8dc3bda6-c730-4bab-8688-8621f6745084"
      },
      "source": [
        "data.plot(kind='scatter', x = \"trestbps\", y = \"oldpeak\", c = \"Black\", zorder = 6, alpha = 0.9, figsize=(12,8))"
      ],
      "execution_count": null,
      "outputs": [
        {
          "output_type": "execute_result",
          "data": {
            "text/plain": [
              "<matplotlib.axes._subplots.AxesSubplot at 0x7f753cb194e0>"
            ]
          },
          "metadata": {
            "tags": []
          },
          "execution_count": 28
        },
        {
          "output_type": "display_data",
          "data": {
            "image/png": "[encoded data removed]",
            "text/plain": [
              "<Figure size 864x576 with 1 Axes>"
            ]
          },
          "metadata": {
            "tags": []
          }
        }
      ]
    },
    {
      "cell_type": "code",
      "metadata": {
        "id": "gpR0npy790cT"
      },
      "source": [
        "from sklearn.linear_model import LinearRegression\n",
        "reg = LinearRegression()"
      ],
      "execution_count": null,
      "outputs": []
    },
    {
      "cell_type": "code",
      "metadata": {
        "id": "KPWoMY6NMBVE"
      },
      "source": [
        "x = np.array(data['trestbps']).reshape(-1, 1)\n",
        "y = np.array(data['oldpeak']).reshape(-1, 1)"
      ],
      "execution_count": null,
      "outputs": []
    },
    {
      "cell_type": "code",
      "metadata": {
        "id": "bsuKVJ31OLvu",
        "colab": {
          "base_uri": "https://localhost:8080/",
          "height": 34
        },
        "outputId": "086132f7-1caf-4213-c607-fb1b126b0b0c"
      },
      "source": [
        "reg.fit(x,y)"
      ],
      "execution_count": null,
      "outputs": [
        {
          "output_type": "execute_result",
          "data": {
            "text/plain": [
              "LinearRegression(copy_X=True, fit_intercept=True, n_jobs=None, normalize=False)"
            ]
          },
          "metadata": {
            "tags": []
          },
          "execution_count": 31
        }
      ]
    },
    {
      "cell_type": "code",
      "metadata": {
        "id": "3CpMmYruORJG",
        "colab": {
          "base_uri": "https://localhost:8080/",
          "height": 34
        },
        "outputId": "d1f4bad5-2481-4ce6-8fdc-063abf67baef"
      },
      "source": [
        "reg.score(x,y)"
      ],
      "execution_count": null,
      "outputs": [
        {
          "output_type": "execute_result",
          "data": {
            "text/plain": [
              "0.03733260521038528"
            ]
          },
          "metadata": {
            "tags": []
          },
          "execution_count": 32
        }
      ]
    },
    {
      "cell_type": "code",
      "metadata": {
        "id": "cHX2yLsOOp2f",
        "colab": {
          "base_uri": "https://localhost:8080/",
          "height": 34
        },
        "outputId": "44867f73-28cc-4a01-9193-bde8e78ef7de"
      },
      "source": [
        "reg.coef_"
      ],
      "execution_count": null,
      "outputs": [
        {
          "output_type": "execute_result",
          "data": {
            "text/plain": [
              "array([[0.01279148]])"
            ]
          },
          "metadata": {
            "tags": []
          },
          "execution_count": 33
        }
      ]
    },
    {
      "cell_type": "code",
      "metadata": {
        "id": "0um1ByqGOtzX",
        "colab": {
          "base_uri": "https://localhost:8080/",
          "height": 34
        },
        "outputId": "4ceef228-6372-43a3-ab62-27c7f032a8d5"
      },
      "source": [
        "reg.intercept_"
      ],
      "execution_count": null,
      "outputs": [
        {
          "output_type": "execute_result",
          "data": {
            "text/plain": [
              "array([-0.64405889])"
            ]
          },
          "metadata": {
            "tags": []
          },
          "execution_count": 34
        }
      ]
    },
    {
      "cell_type": "code",
      "metadata": {
        "id": "KBeszU0xO4yd",
        "colab": {
          "base_uri": "https://localhost:8080/",
          "height": 1000
        },
        "outputId": "09ad77a1-a23f-45c0-87c8-cab668f9fc9e"
      },
      "source": [
        "reg.predict(np.array(data['trestbps']).reshape(-1,1))"
      ],
      "execution_count": null,
      "outputs": [
        {
          "output_type": "execute_result",
          "data": {
            "text/plain": [
              "array([[1.21070585],\n",
              "       [1.01883363],\n",
              "       [1.01883363],\n",
              "       [0.89091883],\n",
              "       [0.89091883],\n",
              "       [1.14674844],\n",
              "       [1.14674844],\n",
              "       [0.89091883],\n",
              "       [1.55607584],\n",
              "       [1.27466325],\n",
              "       [1.14674844],\n",
              "       [1.01883363],\n",
              "       [1.01883363],\n",
              "       [0.76300402],\n",
              "       [1.27466325],\n",
              "       [0.89091883],\n",
              "       [0.89091883],\n",
              "       [1.27466325],\n",
              "       [1.27466325],\n",
              "       [1.14674844],\n",
              "       [1.08279104],\n",
              "       [1.01883363],\n",
              "       [1.14674844],\n",
              "       [1.27466325],\n",
              "       [1.14674844],\n",
              "       [1.40257806],\n",
              "       [1.27466325],\n",
              "       [0.76300402],\n",
              "       [1.14674844],\n",
              "       [1.01883363],\n",
              "       [0.69904661],\n",
              "       [0.89091883],\n",
              "       [1.01883363],\n",
              "       [0.95487623],\n",
              "       [0.95487623],\n",
              "       [1.17233141],\n",
              "       [1.08279104],\n",
              "       [1.27466325],\n",
              "       [1.33862066],\n",
              "       [1.40257806],\n",
              "       [1.14674844],\n",
              "       [1.01883363],\n",
              "       [0.68625513],\n",
              "       [1.01883363],\n",
              "       [1.14674844],\n",
              "       [0.89091883],\n",
              "       [1.14674844],\n",
              "       [1.12116548],\n",
              "       [0.99325067],\n",
              "       [1.12116548],\n",
              "       [1.01883363],\n",
              "       [0.89091883],\n",
              "       [1.01883363],\n",
              "       [0.73742105],\n",
              "       [1.08279104],\n",
              "       [1.06999956],\n",
              "       [0.91650179],\n",
              "       [0.82696142],\n",
              "       [0.86533586],\n",
              "       [0.99325067],\n",
              "       [0.76300402],\n",
              "       [0.73742105],\n",
              "       [0.86533586],\n",
              "       [1.08279104],\n",
              "       [1.14674844],\n",
              "       [1.12116548],\n",
              "       [0.63508921],\n",
              "       [1.01883363],\n",
              "       [0.89091883],\n",
              "       [0.94208475],\n",
              "       [0.89091883],\n",
              "       [0.55834032],\n",
              "       [1.01883363],\n",
              "       [1.14674844],\n",
              "       [0.91650179],\n",
              "       [1.08279104],\n",
              "       [0.95487623],\n",
              "       [1.14674844],\n",
              "       [0.99325067],\n",
              "       [0.69904661],\n",
              "       [0.78858698],\n",
              "       [0.99325067],\n",
              "       [0.66067217],\n",
              "       [1.30024622],\n",
              "       [0.66067217],\n",
              "       [0.82696142],\n",
              "       [0.86533586],\n",
              "       [0.64788069],\n",
              "       [0.76300402],\n",
              "       [0.63508921],\n",
              "       [0.94208475],\n",
              "       [1.0444166 ],\n",
              "       [1.12116548],\n",
              "       [1.0444166 ],\n",
              "       [0.78858698],\n",
              "       [1.17233141],\n",
              "       [1.14674844],\n",
              "       [0.73742105],\n",
              "       [1.01883363],\n",
              "       [1.01883363],\n",
              "       [1.24908029],\n",
              "       [1.63282472],\n",
              "       [1.14674844],\n",
              "       [0.89091883],\n",
              "       [1.00604215],\n",
              "       [0.89091883],\n",
              "       [1.40257806],\n",
              "       [1.12116548],\n",
              "       [0.89091883],\n",
              "       [0.76300402],\n",
              "       [1.65840768],\n",
              "       [1.27466325],\n",
              "       [1.14674844],\n",
              "       [0.76300402],\n",
              "       [1.01883363],\n",
              "       [0.89091883],\n",
              "       [1.01883363],\n",
              "       [0.89091883],\n",
              "       [0.69904661],\n",
              "       [1.12116548],\n",
              "       [1.01883363],\n",
              "       [1.12116548],\n",
              "       [0.78858698],\n",
              "       [0.73742105],\n",
              "       [0.55834032],\n",
              "       [0.86533586],\n",
              "       [0.78858698],\n",
              "       [1.30024622],\n",
              "       [1.09558252],\n",
              "       [0.89091883],\n",
              "       [1.40257806],\n",
              "       [1.06999956],\n",
              "       [0.89091883],\n",
              "       [0.76300402],\n",
              "       [0.96766771],\n",
              "       [1.01883363],\n",
              "       [0.89091883],\n",
              "       [0.99325067],\n",
              "       [0.76300402],\n",
              "       [0.99325067],\n",
              "       [0.89091883],\n",
              "       [0.82696142],\n",
              "       [0.89091883],\n",
              "       [0.71183809],\n",
              "       [1.14674844],\n",
              "       [1.35141214],\n",
              "       [0.86533586],\n",
              "       [1.27466325],\n",
              "       [0.89091883],\n",
              "       [1.01883363],\n",
              "       [1.40257806],\n",
              "       [0.78858698],\n",
              "       [1.53049287],\n",
              "       [1.22349733],\n",
              "       [1.12116548],\n",
              "       [1.01883363],\n",
              "       [1.01883363],\n",
              "       [0.91650179],\n",
              "       [0.95487623],\n",
              "       [1.01883363],\n",
              "       [0.89091883],\n",
              "       [1.0444166 ],\n",
              "       [0.89091883],\n",
              "       [1.12116548],\n",
              "       [1.12116548],\n",
              "       [1.40257806],\n",
              "       [0.89091883],\n",
              "       [1.14674844],\n",
              "       [1.01883363],\n",
              "       [1.14674844],\n",
              "       [1.01883363],\n",
              "       [0.76300402],\n",
              "       [0.89091883],\n",
              "       [1.0444166 ],\n",
              "       [1.01883363],\n",
              "       [0.76300402],\n",
              "       [0.85254438],\n",
              "       [1.14674844],\n",
              "       [0.89091883],\n",
              "       [1.27466325],\n",
              "       [1.0444166 ],\n",
              "       [1.27466325],\n",
              "       [1.01883363],\n",
              "       [0.78858698],\n",
              "       [1.27466325],\n",
              "       [0.78858698],\n",
              "       [1.01883363],\n",
              "       [0.94208475],\n",
              "       [1.14674844],\n",
              "       [0.76300402],\n",
              "       [1.01883363],\n",
              "       [0.99325067],\n",
              "       [0.89091883],\n",
              "       [1.21070585],\n",
              "       [1.14674844],\n",
              "       [1.53049287],\n",
              "       [1.27466325],\n",
              "       [0.95487623],\n",
              "       [0.89091883],\n",
              "       [0.76300402],\n",
              "       [0.76300402],\n",
              "       [0.95487623],\n",
              "       [1.27466325],\n",
              "       [1.65840768],\n",
              "       [1.40257806],\n",
              "       [0.99325067],\n",
              "       [0.76300402],\n",
              "       [1.27466325],\n",
              "       [0.89091883],\n",
              "       [1.14674844],\n",
              "       [0.99325067],\n",
              "       [0.89091883],\n",
              "       [0.86533586],\n",
              "       [1.21070585],\n",
              "       [0.95487623],\n",
              "       [1.0444166 ],\n",
              "       [1.01883363],\n",
              "       [1.01883363],\n",
              "       [1.08279104],\n",
              "       [1.01883363],\n",
              "       [1.27466325],\n",
              "       [1.14674844],\n",
              "       [1.12116548],\n",
              "       [1.9142373 ],\n",
              "       [0.76300402],\n",
              "       [1.21070585],\n",
              "       [0.89091883],\n",
              "       [0.89091883],\n",
              "       [1.53049287],\n",
              "       [0.95487623],\n",
              "       [0.73742105],\n",
              "       [1.46653547],\n",
              "       [1.40257806],\n",
              "       [0.89091883],\n",
              "       [1.01883363],\n",
              "       [1.14674844],\n",
              "       [0.95487623],\n",
              "       [1.14674844],\n",
              "       [0.95487623],\n",
              "       [0.96766771],\n",
              "       [1.40257806],\n",
              "       [1.5816588 ],\n",
              "       [1.21070585],\n",
              "       [1.30024622],\n",
              "       [1.0444166 ],\n",
              "       [0.94208475],\n",
              "       [1.06999956],\n",
              "       [1.40257806],\n",
              "       [1.81190545],\n",
              "       [1.14674844],\n",
              "       [1.14674844],\n",
              "       [1.0444166 ],\n",
              "       [1.12116548],\n",
              "       [0.63508921],\n",
              "       [1.40257806],\n",
              "       [1.17233141],\n",
              "       [0.99325067],\n",
              "       [1.19791437],\n",
              "       [1.27466325],\n",
              "       [0.89091883],\n",
              "       [1.63282472],\n",
              "       [0.78858698],\n",
              "       [0.92929327],\n",
              "       [0.73742105],\n",
              "       [0.76300402],\n",
              "       [0.78858698],\n",
              "       [1.65840768],\n",
              "       [0.86533586],\n",
              "       [0.91650179],\n",
              "       [1.01883363],\n",
              "       [0.89091883],\n",
              "       [1.06999956],\n",
              "       [0.89091883],\n",
              "       [0.63508921],\n",
              "       [0.76300402],\n",
              "       [0.95487623],\n",
              "       [1.22349733],\n",
              "       [0.94208475],\n",
              "       [1.09558252],\n",
              "       [1.12116548],\n",
              "       [1.09558252],\n",
              "       [0.99325067],\n",
              "       [0.96766771],\n",
              "       [1.30024622],\n",
              "       [1.14674844],\n",
              "       [1.14674844],\n",
              "       [1.06999956],\n",
              "       [1.32582918],\n",
              "       [0.76300402],\n",
              "       [0.99325067],\n",
              "       [1.24908029],\n",
              "       [0.81416994],\n",
              "       [1.53049287],\n",
              "       [1.30024622],\n",
              "       [0.89091883],\n",
              "       [1.14674844],\n",
              "       [0.94208475],\n",
              "       [1.45374399],\n",
              "       [1.14674844],\n",
              "       [0.76300402],\n",
              "       [1.19791437],\n",
              "       [1.01883363],\n",
              "       [1.01883363]])"
            ]
          },
          "metadata": {
            "tags": []
          },
          "execution_count": 35
        }
      ]
    },
    {
      "cell_type": "code",
      "metadata": {
        "id": "yCgUhkKwPLNy"
      },
      "source": [
        ""
      ],
      "execution_count": null,
      "outputs": []
    }
  ]
}