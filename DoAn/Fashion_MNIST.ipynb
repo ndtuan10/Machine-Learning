{
  "nbformat": 4,
  "nbformat_minor": 0,
  "metadata": {
    "colab": {
      "name": "Fashion_MNIST.ipynb",
      "private_outputs": true,
      "provenance": [],
      "collapsed_sections": [],
      "include_colab_link": true
    },
    "kernelspec": {
      "display_name": "Python 3",
      "language": "python",
      "name": "python3"
    }
  },
  "cells": [
    {
      "cell_type": "markdown",
      "metadata": {
        "id": "view-in-github",
        "colab_type": "text"
      },
      "source": [
        "<a href=\"https://colab.research.google.com/github/ndtuan10/Machine-Learning/blob/main/DoAn/Fashion_MNIST.ipynb\" target=\"_parent\"><img src=\"https://colab.research.google.com/assets/colab-badge.svg\" alt=\"Open In Colab\"/></a>"
      ]
    },
    {
      "cell_type": "markdown",
      "metadata": {
        "id": "jYysdyb-CaWM"
      },
      "source": [
        "# Phân Loại hình ảnh trang phục qua phương pháp deep learning (Fashion MNIST)\n",
        "Môn : Máy học CS114\n",
        "\n",
        "Giáo viên : TS.Mai Tiến Dũng\n",
        "\n",
        "Thành viên :\n",
        "  + Nguyễn Tuấn Lộc (18521011)\n",
        "  + Lê Hoàng Long (18521027)\n",
        "  + Ngô Đức Tuấn (18520186)"
      ]
    },
    {
      "cell_type": "markdown",
      "metadata": {
        "id": "FbVhjPpzn6BM"
      },
      "source": [
        "Ở đồ án này, chúng ta sẽ xây dựng mô hình mạng Neuron phục vụ cho việc phân loại các kiểu trang phục cơ bản trong cuộc sống, qua đó biết được nhu cầu, sở thích của khách hàng trong việc lựa chọn trang phục.\n",
        "\n",
        "Các công cụ được sử dụng trong quá trình xây dựng mô hình :\n",
        "  + Ngôn ngữ lập trình : Python 3\n",
        "  + Môi trường IDE : Jupyter Notebook , Google Colaboratory\n",
        "  + Các thư viện :\n",
        "    - Thư viện máy học : tensorflow 2.0 , keras 2.3\n",
        "    - Thư viện hỗ trợ : Matplotlib, numpy, pandas\n",
        "\n"
      ]
    },
    {
      "cell_type": "code",
      "metadata": {
        "id": "SjrS4nhaAq1m"
      },
      "source": [
        "!rm -rf ./logs/ "
      ],
      "execution_count": null,
      "outputs": []
    },
    {
      "cell_type": "code",
      "metadata": {
        "id": "dzLKpmZICaWN"
      },
      "source": [
        "%load_ext tensorboard\n",
        "# Thư viện được sử dụng\n",
        "import tensorflow as tf\n",
        "from tensorflow import keras\n",
        "\n",
        "import numpy as np\n",
        "import matplotlib\n",
        "import matplotlib.pyplot as plt\n",
        "import pandas as pd\n",
        "print('''\n",
        "  Phiên bản của các thư viện :\n",
        "    + Tensorflow : {0}\n",
        "    + keras : {1}\n",
        "    + numpy : {2}\n",
        "    + matplotlib : {3}\n",
        "    + pandas : {4}\n",
        "'''.format(tf.__version__, keras.__version__, np.__version__, matplotlib.__version__, pd.__version__))\n"
      ],
      "execution_count": null,
      "outputs": []
    },
    {
      "cell_type": "markdown",
      "metadata": {
        "id": "yR0EdgrLCaWR"
      },
      "source": [
        "## 1/ Trích xuất dữ liệu trang phục Fashion MNIST"
      ]
    },
    {
      "cell_type": "markdown",
      "metadata": {
        "id": "DLdCchMdCaWQ"
      },
      "source": [
        "Chúng ta sẽ sử dụng dataset về trang phục từ [Fashion_MNIST](https://www.kaggle.com/zalando-research/fashionmnist), chứa khoảng 70,000 ảnh đen trắng phân thành 10 loại. Mỗi một ảnh là một loại quần áo hoặc giày dép với độ phân giải thấp (28 by 28 pixel), như hình minh hoạ bên dưới:\n",
        "![Image](https://github.com/zalandoresearch/fashion-mnist/raw/master/doc/img/fashion-mnist-sprite.png)\n",
        "\n",
        "Ngoài ra chúng ta có thể đọc phần mô tả về dataset này thông qua trang [Kaggle](https://www.kaggle.com/search?q=Fashion+MNIST+dataset).\n",
        "\n",
        "<table>\n",
        "  <tr><td>\n",
        "    <img src=\"https://github.com/zalandoresearch/fashion-mnist/raw/master/doc/img/embedding.gif\"\n",
        "         alt=\"Fashion MNIST sprite\"  width=\"600\">\n",
        "  </td></tr>\n",
        "  <tr><td align=\"center\">\n",
        "    <b> Fashion MNIST Dataset </b> \n",
        "  </td></tr>\n",
        "</table>\n",
        "\n",
        "\n",
        "Thay vì tải dữ liệu qua website [Kaggle](https://www.kaggle.com/search?q=Fashion+MNIST+dataset) , ta sẽ load dataset trực tiếp từ chính thư viện [keras](https://keras.io/api/datasets/fashion_mnist/) đã được tích hợp sẵn."
      ]
    },
    {
      "cell_type": "code",
      "metadata": {
        "id": "7MqDQO0KCaWS"
      },
      "source": [
        "fashion_mnist = keras.datasets.fashion_mnist\n",
        "(train_images, train_labels), (test_images, test_labels) = fashion_mnist.load_data()"
      ],
      "execution_count": null,
      "outputs": []
    },
    {
      "cell_type": "markdown",
      "metadata": {
        "id": "uEfdyvltp6oj"
      },
      "source": [
        "Sau khi tải, dữ liệu được trả về với kiểu dữ liệu numpy.ndarray (mảng n chiều) được gán cho 4 biến : \n",
        "\n",
        "*train_images* , *train_labels* , *test_images* , *test_labels*."
      ]
    },
    {
      "cell_type": "code",
      "metadata": {
        "id": "jBPuUc4sp0DY"
      },
      "source": [
        "type(train_images)"
      ],
      "execution_count": null,
      "outputs": []
    },
    {
      "cell_type": "markdown",
      "metadata": {
        "id": "Brm0b_KACaWX"
      },
      "source": [
        "##2/ Khai phá dữ liệu \n",
        "\n",
        "Chúng ta khám phá dữ liệu  trước khi huấn luyện mô hình. Câu lệnh sau sẽ cho ta thấy có 60.000 ảnh trong tập huấn luyện, với mỗi ảnh được biểu diễn theo dạng 28x28 pixel:"
      ]
    },
    {
      "cell_type": "code",
      "metadata": {
        "id": "zW5k_xz1CaWX"
      },
      "source": [
        "train_images.shape"
      ],
      "execution_count": null,
      "outputs": []
    },
    {
      "cell_type": "markdown",
      "metadata": {
        "id": "cIAcvQqMCaWf"
      },
      "source": [
        "Tương tự, tập huấn luyện cũng có 60.000 nhãn tương ứng:"
      ]
    },
    {
      "cell_type": "code",
      "metadata": {
        "id": "TRFYHB2mCaWb"
      },
      "source": [
        "len(train_labels)"
      ],
      "execution_count": null,
      "outputs": []
    },
    {
      "cell_type": "markdown",
      "metadata": {
        "id": "YSlYxFuRCaWk"
      },
      "source": [
        "Mỗi nhãn là một số nguyên từ 0 đến 9:"
      ]
    },
    {
      "cell_type": "code",
      "metadata": {
        "id": "XKnCTHz4CaWg"
      },
      "source": [
        "train_labels"
      ],
      "execution_count": null,
      "outputs": []
    },
    {
      "cell_type": "markdown",
      "metadata": {
        "id": "TMPI88iZpO2T"
      },
      "source": [
        "Ở tập kiểm tra Có 10.000 ảnh , mỗi ảnh cũng được biểu diễn ở dãng 28 x 28 pixel:"
      ]
    },
    {
      "cell_type": "code",
      "metadata": {
        "id": "2KFnYlcwCaWl"
      },
      "source": [
        "test_images.shape"
      ],
      "execution_count": null,
      "outputs": []
    },
    {
      "cell_type": "markdown",
      "metadata": {
        "id": "rd0A0Iu0CaWq"
      },
      "source": [
        "Và tập kiểm tra cũng chứa 10,000 nhãn:"
      ]
    },
    {
      "cell_type": "code",
      "metadata": {
        "id": "iJmPr5-ACaWn"
      },
      "source": [
        "len(test_labels)"
      ],
      "execution_count": null,
      "outputs": []
    },
    {
      "cell_type": "markdown",
      "metadata": {
        "id": "4klOrDISo7uu"
      },
      "source": [
        "Tập dữ liệu sau khi được tải sẽ trả về 4 mảng NumPy:\n",
        "\n",
        "* 2 mảng `train_images` và `train_labels` là *tập huấn luyện*. Mô hình sẽ học từ dữ liệu của 2 mảng này.\n",
        "* 2 mảng `test_images` vả `test_labels` là *tập kiểm thử*. Sau khi mô hình được huấn luyện xong, chúng ta sẽ chạy thử mô hình với dữ liệu đầu vào từ `test_images` để lấy kết quả, và so sánh kết quả đó với dữ liệu đối ứng từ `test_labels` để đánh giá độ chính xác của mô hình mạng neuron đã tạo.\n",
        "\n",
        "Mỗi ảnh là một mảng NumPy 2 chiều, 28x28, với mỗi pixel có giá trị từ 0 đến 255. *Nhãn* là một mảng của các số nguyên từ 0 đến 9, tương ứng với mỗi *lớp* quần áo giày dép:\n",
        "\n",
        "<table>\n",
        "  <tr>\n",
        "    <th>Nhãn</th><th>0</th><th>1</th><th>2</th><th>3</th><th>4</th><th>5</th><th>6</th><th>7</th><th>8</th><th>9</th>\n",
        "    \n",
        "  </tr>\n",
        "  <tr>\n",
        "    <td>Loại</td>\n",
        "    <td>Áo thun</td>\n",
        "    <td>Quần dài</td>\n",
        "    <td>Áo len</td>\n",
        "    <td>Váy</td>\n",
        "    <td>Áo khoác</td>\n",
        "    <td>Sandal</td>\n",
        "    <td>Áo sơ mi</td>\n",
        "    <td>Giày</td>\n",
        "    <td>Túi xách</td>\n",
        "    <td>Ủng </td>\n",
        "  </tr>\n",
        "</table>\n",
        "\n",
        "Mỗi ảnh sẽ được gán với một nhãn duy nhất. Vì tên của mỗi nhãn không có trong tập dữ liệu, nên chúng ta có thể định nghĩa ở đây như sau:"
      ]
    },
    {
      "cell_type": "code",
      "metadata": {
        "id": "HPFgyKW_pAhb"
      },
      "source": [
        "class_names = [\n",
        "               'Áo thun', 'Quần dài', 'Áo len', 'Váy', 'Áo khoác',\n",
        "               'Sandal', 'Áo sơ mi', 'Giày', 'Túi xách', 'Ủng'\n",
        "               ]"
      ],
      "execution_count": null,
      "outputs": []
    },
    {
      "cell_type": "markdown",
      "metadata": {
        "id": "ES6uQoLKCaWr"
      },
      "source": [
        "##3/ Tiền xử lý dữ liệu\n",
        "\n",
        "Dữ liệu cần được xử lý trước khi được dùng để huấn luyện mạng neuron. Phân tích ảnh đầu tiên trong tập dữ liệu, chúng ta sẽ thấy các pixel có giá trị từ 0 đến 255:"
      ]
    },
    {
      "cell_type": "code",
      "metadata": {
        "id": "m4VEw8Ud9Quh"
      },
      "source": [
        "plt.figure()\n",
        "plt.imshow(train_images[0], cmap=\"inferno\")\n",
        "plt.colorbar()\n",
        "plt.show()"
      ],
      "execution_count": null,
      "outputs": []
    },
    {
      "cell_type": "markdown",
      "metadata": {
        "id": "Wz7l27Lz9S1P"
      },
      "source": [
        "Chúng ta cần xử lý để mỗi một điểm ảnh có giá trị nằm trong khoảng từ 0 đến 1 (tức trong khoảng là 0% đến 100%). Để làm điều này, chúng ta chỉ cần lấy giá trị của pixel chia cho 255. Cần lưu ý rằng việc tiền xử lý này phải được áp dụng đồng thời cho cả *tập huấn luyện* và *tập kiểm thử*:"
      ]
    },
    {
      "cell_type": "code",
      "metadata": {
        "id": "bW5WzIPlCaWv"
      },
      "source": [
        "train_images = train_images / 255.0\n",
        "\n",
        "test_images = test_images / 255.0"
      ],
      "execution_count": null,
      "outputs": []
    },
    {
      "cell_type": "markdown",
      "metadata": {
        "id": "Ee638AlnCaWz"
      },
      "source": [
        "Để chắc chắn việc tiền xử lý diễn ra chính xác, chúng ta có thể in ra 25 ảnh đầu trong *tập huấn luyện* cùng với tên lớp dưới mỗi ảnh."
      ]
    },
    {
      "cell_type": "code",
      "metadata": {
        "id": "oZTImqg_CaW1"
      },
      "source": [
        "plt.figure(figsize=(10,10))\n",
        "for i in range(25):\n",
        "    plt.subplot(5,5,i+1)\n",
        "    plt.xticks([])\n",
        "    plt.yticks([])\n",
        "    plt.grid(False)\n",
        "    plt.imshow(train_images[i], cmap=plt.cm.binary)\n",
        "    plt.xlabel(class_names[train_labels[i]])\n",
        "plt.show()"
      ],
      "execution_count": null,
      "outputs": []
    },
    {
      "cell_type": "markdown",
      "metadata": {
        "id": "59veuiEZCaW4"
      },
      "source": [
        "##4/ Xây dựng mô hình\n",
        "\n",
        "Để xây dựng mạng neuron, chúng tay cần thiết lập các layer của mô hình, và sau đó biên dịch mô hình."
      ]
    },
    {
      "cell_type": "markdown",
      "metadata": {
        "id": "Gxg1XGm0eOBy"
      },
      "source": [
        "### 4.1Thiết lập các layers\n",
        "\n",
        "Thành phần cơ bản của một mạng neuron là các *layer*. Các layer trích xuất các điểm đặc biệt từ dữ liệu mà chúng đón nhận. Khi thực hiện tốt, những điểm đặc biệt này mang nhiều ý nghĩa và phục vụ cho toán của chúng ta.\n",
        "\n",
        "Đa số các mô hình deep learning đều chứa các layer đơn gian được xâu chuỗi lại với nhau. Đa số các layer, ví dụ `tf.keras.layers.Dense`, đều có các trọng số sẽ được học trong quá trình huấn luyện.\n"
      ]
    },
    {
      "cell_type": "code",
      "metadata": {
        "id": "9ODch-OFCaW4"
      },
      "source": [
        "model = keras.Sequential([\n",
        "    keras.layers.Flatten(input_shape=(28, 28)),\n",
        "    keras.layers.Dense(128, activation='relu'),\n",
        "    keras.layers.Dense(10, activation='softmax')\n",
        "])\n",
        "\n",
        "# model = keras.Sequential([\n",
        "#     keras.layers.Flatten(input_shape=(28, 28)),\n",
        "#     keras.layers.Dense(128, activation='relu'),\n",
        "#     keras.layers.Dense(200, activation='relu'),\n",
        "#     keras.layers.Dense(10, activation='softmax')\n",
        "# ])"
      ],
      "execution_count": null,
      "outputs": []
    },
    {
      "cell_type": "markdown",
      "metadata": {
        "id": "dkksmTuGxfFp"
      },
      "source": [
        "Mô hình mạng neuron cơ bản luôn có 3 lớp chính :\n",
        "+ Lớp Input : Xác định hình dạng dữ liệu đầu vào cho mô hình.\n",
        "+ Lớp Hidden : Dùng để tính toán , xây dựng kết nối các neuron lại với nhau. Khác với 2 lớp Input, Output được xây dựng, thiết kế cố định dựa trên dataset. Ở lớp này, ta có thể thiết kế nhiều lớp, mỗi lớp có nhiều neuron tuỳ ý. Tuy nhiên khi số lượng hay độ phức tạp ở lớp ẩn càng cao, thì độ chính xác càng tăng, thời gian huấn luyện càng lâu. Ngoài ra khi mô hình ở lớp này quá phức tạp sẽ gây ra hiện tượng quá khớp làm giảm độ chính xác của mô hình. Ngược lại khi mô hình lớp ẩn quá đơn giản, thì các nhãn được phân loại sẽ không có độ chính xác cao .\n",
        "+ Lớp Output : Các nhãn cần dự đoán . \n",
        "<table>\n",
        "  <tr><td>\n",
        "    <img src=\"https://www.tutorialspoint.com/machine_learning/images/artificial_neural_networks.jpg\"\n",
        "         alt=\"Fashion MNIST sprite\"  width=\"600\">\n",
        "  </td></tr>\n",
        "  <tr><td align=\"center\">\n",
        "    <b>Figure 2.</b> <a href=\"https://www.tutorialspoint.com/machine_learning/images/artificial_neural_networks.jpg\">Minh hoạ mô hình mạng Neuron</a> <br/>&nbsp;\n",
        "  </td></tr>\n",
        "</table>"
      ]
    },
    {
      "cell_type": "code",
      "metadata": {
        "id": "MBFD0JpTsFbt"
      },
      "source": [
        "model.summary()"
      ],
      "execution_count": null,
      "outputs": []
    },
    {
      "cell_type": "markdown",
      "metadata": {
        "id": "gut8A_7rCaW6"
      },
      "source": [
        "Trong mô hình mạng neuron được thiết kế như trên, lớp Input , `tf.keras.layers.Flatten`, chuyển đổi định dạng của hình ảnh từ mảng hai chiều (28x28) thành mảng một chiều (28x28 = 784). Công việc của layer này là cắt từng dòng của ảnh, và ghép nối lại thành một dòng duy nhất nhưng dài gấp 28 lần. Lớp  có nhiệm vụ chính là định dạng lại dữ liệu.Sau đây chúng ta sẽ phân tính lần lượt 3 lớp chính của mạng neuron.\n",
        "\n",
        "+ Lớp Input : Sau khi  được làm \"phẳng\" (từ mảng 2 chiều thành mảng 1 chiều), phần mạng neuron còn lại gồm một chuỗi hai layer `tf.keras.layers.Dense`. Đây là các layer neuron được kết nối hoàn toàn (mỗi một neuron của layer này kết nối đến tất cả các neuron của lớp trước và sau nó). \n",
        "\n",
        "+ Layer `Dense` đầu tiên hay còn gọi là lớp ẩn ( Hidden Layer ) có 128 neuron. \n",
        "\n",
        "+ Layer cuối cùng hay còn gọi là lớp Output có 10 nút, với mỗi nút tương đương với mỗi nhãn mà ta đã xác định ở trên bao gồm các giá trị từ *0 đến 10*. Mỗi nút chứa một giá trị cho biết xác suất hình ảnh hiện tại thuộc về một trong 10 lớp, , và tổng các giá trị của 10 nút này là 1 (tương đương 100%)\n",
        "\n",
        "###4.2 Biên dịch mô hình\n",
        "\n",
        "Trước khi mô hình có thể được huấn luyện, chúng ta cần thêm các hàm toán học giúp cho việc đánh giá hay làm mô hình đi \" đúng hướng \". Các chỉnh sửa này được thêm vào trong bước *biên dịch* của mô hình:\n",
        "\n",
        "* *Hàm mất mát* — dùng để tính toán \"độ sai sót\" của mô hình trong quá trình huấn luyện và dự đoán. Chúng ta cần phải làm cho nghiệm của hàm này nhỏ nhất để kiểm soát mô hình đi đúng hướng. (mất mát càng ít, chính xác càng cao).\n",
        "* *Hàm tối ưu* — Đây là \"công cụ\" để làm hàm mất mát có nghiệm nhỏ nhất, qua việc cập nhật và chỉnh sửa các tham số có trong hàm mất mát.\n",
        "* *Thang đo* — dùng để đo đạc độ chính xác qua mỗi quá trình huấn luyện và kiểm tra. Chúng ta sẽ sử dụng phép đo *accuracy*, nhằm nắm được tỉ lệ ảnh được phân loại chính xác."
      ]
    },
    {
      "cell_type": "code",
      "metadata": {
        "id": "Lhan11blCaW7"
      },
      "source": [
        "model.compile(optimizer='adam',\n",
        "              loss='sparse_categorical_crossentropy',\n",
        "              metrics=['accuracy'])"
      ],
      "execution_count": null,
      "outputs": []
    },
    {
      "cell_type": "markdown",
      "metadata": {
        "id": "qKF6uW-BCaW-"
      },
      "source": [
        "##5/ Huấn luyện mô hình\n",
        "\n",
        "Huấn luyện mô hình mạng neuron cần các bước sau:\n",
        "\n",
        "1. Cung cấp dữ liệu huấn luyện cho mô hình. Trong ví dụ này, dữ liệu huấn luyện năm trong 2 mảng `train_images` và `train_labels`. Ngoài ra chúng ta sẽ trích 30% dữ liệu huấn luyện cho dữ liệu validation để làm tập kiểm tra -> mô hình có tính \"Khách quan\" .\n",
        "2. Mô hình sẽ học cách liên kết ảnh với nhãn.\n",
        "3. Chúng ta sẽ yêu cầu mô hình đưa ra dự đoán từ dữ liệu của tập kiểm thử, trong ví dụ này là mảng `test_images`, sau đó lấy kết quả dự đoán đối chiếu với nhãn trong mảng `test_labels`.\n",
        "\n",
        "\n",
        "Để bắt đầu huấn luyện, gọi hàm `model.fit`. Hàm này được đặt tên `fit` vì nó sẽ \"khớp\" mô hình với dữ liệu huấn luyện:"
      ]
    },
    {
      "cell_type": "code",
      "metadata": {
        "id": "xvwvpA64CaW_"
      },
      "source": [
        "import datetime\n",
        "log_dir = \"logs/fit/\" + datetime.datetime.now().strftime(\"%Y%m%d-%H%M%S\")\n",
        "tensorboard_callback = tf.keras.callbacks.TensorBoard(log_dir=log_dir, histogram_freq=1)\n",
        "\n",
        "history = model.fit(train_images, train_labels, validation_split=0.3, epochs=10, batch_size=10,  callbacks=[tensorboard_callback])"
      ],
      "execution_count": null,
      "outputs": []
    },
    {
      "cell_type": "markdown",
      "metadata": {
        "id": "W3ZVOhugCaXA"
      },
      "source": [
        "Trong quá trình huấn luyện, các số liệu mất mát và chính xác được liệt kê trong từng quá trình lặp (epoch). Sau khi quan sát tới lần lặp cuối cùng, ta thấy độ chính xác là khá cao dao động ở mức 92%."
      ]
    },
    {
      "cell_type": "code",
      "metadata": {
        "id": "4_NsHA2TSZUY"
      },
      "source": [
        "plt.figure(figsize = (20,5))\n",
        "\n",
        "plt.subplot(1,2,1)\n",
        "plt.plot(history.history['accuracy'])\n",
        "plt.plot(history.history['val_accuracy'])\n",
        "plt.title('Training and Validation Accuracy')\n",
        "plt.ylabel('Accuracy')\n",
        "plt.xlabel('Epoch')\n",
        "plt.legend(['Training Accuracy', 'Validation Accuracy'], loc='upper left')\n",
        "\n",
        "\n",
        "plt.subplot(1,2,2)\n",
        "plt.plot(history.history['loss'])\n",
        "plt.plot(history.history['val_loss'])\n",
        "plt.title('Training and Validation Loss')\n",
        "plt.ylabel('Loss')\n",
        "plt.xlabel('Epoch')\n",
        "plt.legend(['Train Loss', 'Validation Loss'], loc='upper right')\n",
        "plt.show()"
      ],
      "execution_count": null,
      "outputs": []
    },
    {
      "cell_type": "markdown",
      "metadata": {
        "id": "2-r-txgoSwD8"
      },
      "source": [
        "Overfitting xảy ra khi một mô hình máy học hoạt động cực kì chính xác trên dữ liệu huấn luyện nhưng lại rất kém khi được cung cấp các dữ liệu vào mới, tức dữ liệu mà mô hình chưa từng \"thấy\" trước đây.\n",
        "\n",
        "Qua 2 biểu đồ trên, ta nhận thấy sự khác biệt trong tỷ lệ chính xác và mất \n",
        "mát giữa 2 tập dữ liệu là không quá cao. Do vậy, hiện tượng quá khớp ( Overfitting ) không xảy ra."
      ]
    },
    {
      "cell_type": "markdown",
      "metadata": {
        "id": "oEw4bZgGCaXB"
      },
      "source": [
        "##6/ Đánh giá mô hình\n",
        "\n",
        "Tiếp theo, chúng đánh giá chất lượng của mô hình bằng tập kiểm tra :"
      ]
    },
    {
      "cell_type": "code",
      "metadata": {
        "id": "yvr7obW7UYZI"
      },
      "source": [
        "model.evaluate(test_images, test_labels)"
      ],
      "execution_count": null,
      "outputs": []
    },
    {
      "cell_type": "markdown",
      "metadata": {
        "id": "yWfgsmVXCaXG"
      },
      "source": [
        "Đến thời điểm này, chúng ta thấy rằng tỉ lệ chính xác của mô hình qua đánh giá bằng tập kiểm thử là khá khớp so với tập huấn luyện ở trên (gần 88%). Sự chệnh lệch trong thang đo accuracy của tập kiểm tra với tập huấn luyện là không cao. Do đó hiện tưởng xảy ra *Overfitting* là không cao."
      ]
    },
    {
      "cell_type": "markdown",
      "metadata": {
        "id": "xsoS7CPDCaXH"
      },
      "source": [
        "##7/ Demo dự đoán \n",
        "\n",
        "Với một mô hình đã được đào tạo, chúng ta có thể dùng nó để đưa ra dự đoán với một số ảnh."
      ]
    },
    {
      "cell_type": "code",
      "metadata": {
        "id": "Gl91RPhdCaXI"
      },
      "source": [
        "predictions = model.predict(test_images)"
      ],
      "execution_count": null,
      "outputs": []
    },
    {
      "cell_type": "markdown",
      "metadata": {
        "id": "x9Kk1voUCaXJ"
      },
      "source": [
        "Ở đây, mô hình sẽ dự đoán nhãn cho từng hình ảnh trong bộ thử nghiệm. Hãy xem dự đoán đầu tiên:"
      ]
    },
    {
      "cell_type": "code",
      "metadata": {
        "id": "3DmJEUinCaXK"
      },
      "source": [
        "predictions[0]"
      ],
      "execution_count": null,
      "outputs": []
    },
    {
      "cell_type": "markdown",
      "metadata": {
        "id": "-hw1hgeSCaXN"
      },
      "source": [
        "Trong ví dụ này, dự đoán là một mảng 10 số thực, mỗi số tương ứng với \"độ tự tin\" của mô hình rằng ảnh đó thuộc về nhãn đó. Chúng ta có thể thấy nhãn nào có độ tư tin cao nhất:"
      ]
    },
    {
      "cell_type": "code",
      "metadata": {
        "id": "qsqenuPnCaXO"
      },
      "source": [
        "np.argmax(predictions[0])"
      ],
      "execution_count": null,
      "outputs": []
    },
    {
      "cell_type": "markdown",
      "metadata": {
        "id": "E51yS7iCCaXO"
      },
      "source": [
        "Vậy là mô hình tự tin nhất rằng ảnh này là một loại ủng, hoặc `class_names[9]`. Đối chiếu với nhãn trong tập kiểm thử, ta thấy dự đoán này là đúng:"
      ]
    },
    {
      "cell_type": "code",
      "metadata": {
        "id": "Sd7Pgsu6CaXP"
      },
      "source": [
        "test_labels[0]"
      ],
      "execution_count": null,
      "outputs": []
    },
    {
      "cell_type": "markdown",
      "metadata": {
        "id": "ygh2yYC972ne"
      },
      "source": [
        "Ta sẽ trực quan hoá dữ liệu để xem các dự đoán trên cả 10 lớp của mô hình."
      ]
    },
    {
      "cell_type": "code",
      "metadata": {
        "id": "DvYmmrpIy6Y1"
      },
      "source": [
        "def plot_image(i, predictions_array, true_label, img):\n",
        "  predictions_array, true_label, img = predictions_array, true_label[i], img[i]\n",
        "  plt.grid(False)\n",
        "  plt.xticks([])\n",
        "  plt.yticks([])\n",
        "\n",
        "  plt.imshow(img, cmap=plt.cm.binary)\n",
        "\n",
        "  predicted_label = np.argmax(predictions_array)\n",
        "  if predicted_label == true_label:\n",
        "    color = 'blue'\n",
        "  else:\n",
        "    color = 'red'\n",
        "\n",
        "  plt.xlabel(\"{} {:2.0f}% ({})\".format(class_names[predicted_label],\n",
        "                                100*np.max(predictions_array),\n",
        "                                class_names[true_label]),\n",
        "                                color=color)\n",
        "\n",
        "def plot_value_array(i, predictions_array, true_label):\n",
        "  predictions_array, true_label = predictions_array, true_label[i]\n",
        "  plt.grid(False)\n",
        "  plt.xticks(range(10))\n",
        "  plt.yticks([])\n",
        "  thisplot = plt.bar(range(10), predictions_array, color=\"#777777\")\n",
        "  plt.ylim([0, 1])\n",
        "  predicted_label = np.argmax(predictions_array)\n",
        "\n",
        "  thisplot[predicted_label].set_color('red')\n",
        "  thisplot[true_label].set_color('blue')"
      ],
      "execution_count": null,
      "outputs": []
    },
    {
      "cell_type": "markdown",
      "metadata": {
        "id": "d4Ov9OFDMmOD"
      },
      "source": [
        "Chúng ta có thể nhìn vào ảnh 0th, các dự đoán, và mảng dự đoán.\n",
        "Nhãn dự đoán đúng màu xanh và nhãn sai màu đỏ. Con số là số phần trăm của các nhãn được dự đoán."
      ]
    },
    {
      "cell_type": "code",
      "metadata": {
        "id": "HV5jw-5HwSmO"
      },
      "source": [
        "i = 8999\n",
        "plt.figure(figsize= (6,3))\n",
        "plt.subplot(1,2,1)\n",
        "plot_image(i, predictions[i], test_labels, test_images)\n",
        "plt.subplot(1,2,2)\n",
        "plot_value_array(i, predictions[i],  test_labels)\n",
        "plt.show()"
      ],
      "execution_count": null,
      "outputs": []
    },
    {
      "cell_type": "code",
      "metadata": {
        "id": "Ko-uzOufSCSe"
      },
      "source": [
        "i = 12\n",
        "plt.figure(figsize= (6,3))\n",
        "plt.subplot(1,2,1)\n",
        "plot_image(i, predictions[i], test_labels, test_images)\n",
        "plt.subplot(1,2,2)\n",
        "plot_value_array(i, predictions[i],  test_labels)\n",
        "plt.show()"
      ],
      "execution_count": null,
      "outputs": []
    },
    {
      "cell_type": "markdown",
      "metadata": {
        "id": "kgdvGD52CaXR"
      },
      "source": [
        "Thử vẽ biểu đồ với vài ảnh và dự đoán đi kèm. Chú ý thấy rằng mô hình đôi khi dự đoán sai dù điểm tự tin rất cao."
      ]
    },
    {
      "cell_type": "code",
      "metadata": {
        "id": "hQlnbqaw2Qu_"
      },
      "source": [
        "# Plot the first X test images, their predicted labels, and the true labels.\n",
        "# Color correct predictions in blue and incorrect predictions in red.\n",
        "num_rows = 5\n",
        "num_cols = 3\n",
        "num_images = num_rows*num_cols\n",
        "plt.figure(figsize= (2*2*num_cols, 2*num_rows))\n",
        "for i in range(num_images):\n",
        "  plt.subplot(num_rows, 2*num_cols, 2*i+1)\n",
        "  plot_image(i, predictions[i], test_labels, test_images)\n",
        "  plt.subplot(num_rows, 2*num_cols, 2*i+2)\n",
        "  plot_value_array(i, predictions[i], test_labels)\n",
        "plt.tight_layout()\n",
        "plt.show()"
      ],
      "execution_count": null,
      "outputs": []
    },
    {
      "cell_type": "markdown",
      "metadata": {
        "id": "R32zteKHCaXT"
      },
      "source": [
        "Cuối cùng, dùng mô hình để đưa ra dự đoán về một ảnh duy nhất."
      ]
    },
    {
      "cell_type": "code",
      "metadata": {
        "id": "yRJ7JU7JCaXT"
      },
      "source": [
        "# Grab an image from the test dataset.\n",
        "img = test_images[1]\n",
        "\n",
        "print(img.shape)"
      ],
      "execution_count": null,
      "outputs": []
    },
    {
      "cell_type": "markdown",
      "metadata": {
        "id": "vz3bVp21CaXV"
      },
      "source": [
        "Các mô hình `tf.keras` được tối ưu hóa để đưa ra dự đoán về một *lô* hoặc bộ sưu tập các ví dụ cùng một lúc. Theo đó, mặc dù bạn đang sử dụng một ảnh duy nhất, bạn cần thêm nó vào list:"
      ]
    },
    {
      "cell_type": "code",
      "metadata": {
        "id": "lDFh5yF_CaXW"
      },
      "source": [
        "# Add the image to a batch where it's the only member.\n",
        "img = (np.expand_dims(img,0))\n",
        "\n",
        "print(img.shape)"
      ],
      "execution_count": null,
      "outputs": []
    },
    {
      "cell_type": "markdown",
      "metadata": {
        "id": "EQ5wLTkcCaXY"
      },
      "source": [
        "Dự đoán nhãn cho ảnh này:"
      ]
    },
    {
      "cell_type": "code",
      "metadata": {
        "id": "o_rzNSdrCaXY"
      },
      "source": [
        "predictions_single = model.predict(img)\n",
        "\n",
        "print(predictions_single)"
      ],
      "execution_count": null,
      "outputs": []
    },
    {
      "cell_type": "code",
      "metadata": {
        "id": "6Ai-cpLjO-3A"
      },
      "source": [
        "plot_value_array(1, predictions_single[0], test_labels)\n",
        "_ = plt.xticks(range(10), class_names, rotation=45)"
      ],
      "execution_count": null,
      "outputs": []
    },
    {
      "cell_type": "markdown",
      "metadata": {
        "id": "cU1Y2OAMCaXb"
      },
      "source": [
        "`model.predict` trả về một list của lists — mỗi list cho mỗi ảnh trong lô dữ liệu. Lấy dự đoán cho hình ảnh trong lô:"
      ]
    },
    {
      "cell_type": "code",
      "metadata": {
        "id": "2tRmdq_8CaXb"
      },
      "source": [
        "np.argmax(predictions_single[0])"
      ],
      "execution_count": null,
      "outputs": []
    },
    {
      "cell_type": "code",
      "metadata": {
        "id": "zvjExqNXBIaj"
      },
      "source": [
        "%tensorboard --logdir logs/fit"
      ],
      "execution_count": null,
      "outputs": []
    },
    {
      "cell_type": "markdown",
      "metadata": {
        "id": "sRu1Tfe8hdRM"
      },
      "source": [
        "  **Hình ảnh thực tiễn**\n",
        "\n",
        "Để thêm thách thức cho mô hình mạng neural, Chúng ta sẽ cho nó phân tích và đưa ra dự đoán cho dữ liệu thực tiễn.\n",
        "![alt text](https://i3.stycdn.net/images/2018/11/48/article/adidas/kt49488501/adidas-3-stripes-t-shirt-schwarz-1330-zoom-0.jpg)"
      ]
    },
    {
      "cell_type": "code",
      "metadata": {
        "id": "9flbE_IX2q92"
      },
      "source": [
        "from PIL import Image, ImageFilter\n",
        "\n",
        "\n",
        "def imageprepare( file_path):\n",
        "    im = Image.open('image.png').convert('L')\n",
        "    width = float(im.size[0])\n",
        "    height = float(im.size[1])\n",
        "    newImage = Image.new('L', (28, 28), (255))  # creates white canvas of 28x28 pixels\n",
        "\n",
        "    if width > height:  # check which dimension is bigger\n",
        "        # Width is bigger. Width becomes 20 pixels.\n",
        "        nheight = int(round((20.0 / width * height), 0))  # resize height according to ratio width\n",
        "        if (nheight == 0):  # rare case but minimum is 1 pixel\n",
        "            nheight = 1\n",
        "            # resize and sharpen\n",
        "        img = im.resize((20, nheight), Image.ANTIALIAS).filter(ImageFilter.SHARPEN)\n",
        "        wtop = int(round(((28 - nheight) / 2), 0))  # calculate horizontal position\n",
        "        newImage.paste(img, (4, wtop))  # paste resized image on white canvas\n",
        "    else:\n",
        "        # Height is bigger. Heigth becomes 20 pixels.\n",
        "        nwidth = int(round((20.0 / height * width), 0))  # resize width according to ratio height\n",
        "        if (nwidth == 0):  # rare case but minimum is 1 pixel\n",
        "            nwidth = 1\n",
        "            # resize and sharpen\n",
        "        img = im.resize((nwidth, 20), Image.ANTIALIAS).filter(ImageFilter.SHARPEN)\n",
        "        wleft = int(round(((28 - nwidth) / 2), 0))  # caculate vertical pozition\n",
        "        newImage.paste(img, (wleft, 4))  # paste resized image on white canvas\n",
        "\n",
        "    # newImage.save(\"sample.png\n",
        "\n",
        "    tv = list(newImage.getdata())  # get pixel values\n",
        "\n",
        "    # normalize pixels to 0 and 1. 0 is pure white, 1 is pure black.\n",
        "    tva = [(255 - x) * 1.0 / 255.0 for x in tv]\n",
        "    # print(tva)\n",
        "    return tva\n",
        "\n",
        "x=[imageprepare('./image.png')]#file path here\n",
        "print(len(x))# mnist IMAGES are 28x28=784 pixels\n",
        "print(x[0])\n",
        "# converting 784 sized 1d array to 24x24 sized 2d array \n",
        "newArr=[[0 for d in range(28)] for y in range(28)]\n",
        "k = 0\n",
        "for i in range(28):\n",
        "    for j in range(28):\n",
        "        newArr[i][j]=x[0][k]\n",
        "        k=k+1\n",
        "\n"
      ],
      "execution_count": null,
      "outputs": []
    },
    {
      "cell_type": "markdown",
      "metadata": {
        "id": "F4AhC8gLjLU9"
      },
      "source": [
        "Ngoài ra chúng ta cần phải điều chỉnh hình dạng, và kiểu dữ liệu ảnh thực phù hợp với lớp input của mô hình."
      ]
    },
    {
      "cell_type": "code",
      "metadata": {
        "id": "Cv2frYALiH-n"
      },
      "source": [
        "arr=np.array(newArr)\n",
        "print(arr.shape)\n",
        "arr = (np.expand_dims(arr,0))\n",
        "print(arr.shape)\n",
        "print(type(arr))"
      ],
      "execution_count": null,
      "outputs": []
    },
    {
      "cell_type": "markdown",
      "metadata": {
        "id": "hEp1IFbbmNnU"
      },
      "source": [
        "Gán kết quả vào biến demo"
      ]
    },
    {
      "cell_type": "code",
      "metadata": {
        "id": "gWPHEpMiKEjm"
      },
      "source": [
        "demo = model.predict(arr)"
      ],
      "execution_count": null,
      "outputs": []
    },
    {
      "cell_type": "markdown",
      "metadata": {
        "id": "wW07U6I7pDXa"
      },
      "source": [
        "**Và kết quà làaaaa**"
      ]
    },
    {
      "cell_type": "code",
      "metadata": {
        "id": "egKPYKr0mr-k"
      },
      "source": [
        "class_names[np.argmax(demo)]"
      ],
      "execution_count": null,
      "outputs": []
    },
    {
      "cell_type": "code",
      "metadata": {
        "id": "P6ufwEm_mxQk"
      },
      "source": [
        "plt.imshow(newArr)\n",
        "plt.show()"
      ],
      "execution_count": null,
      "outputs": []
    },
    {
      "cell_type": "code",
      "metadata": {
        "id": "bpV4rVnanAo2"
      },
      "source": [
        "demo = demo.reshape(10)"
      ],
      "execution_count": null,
      "outputs": []
    },
    {
      "cell_type": "code",
      "metadata": {
        "id": "IM3XWj-Um4wY"
      },
      "source": [
        "  # predictions_array, true_label = demo, class_names[np.argmax(demo)]\n",
        "plt.grid(False)\n",
        "plt.xticks(range(10))\n",
        "plt.yticks([])\n",
        "plt.bar(range(10), demo)\n",
        "plt.ylim([0, 1])\n",
        "  # predicted_label = np.argmax(predictions_array)\n",
        "_ = plt.xticks(range(10), class_names, rotation=45)\n",
        "  # thisplot[predicted_label].set_color('red')\n",
        "  # thisplot[true_label].set_color('blue')\n",
        "plt.show()\n",
        "\n",
        "\n",
        "  # predictions_array, true_label = predictions_array, true_label[i]\n",
        "  # plt.grid(False)\n",
        "  # plt.xticks(range(10))\n",
        "  # plt.yticks([])\n",
        "  # thisplot = plt.bar(range(10), predictions_array, color=\"#777777\")\n",
        "  # plt.ylim([0, 1])\n",
        "  # predicted_label = np.argmax(predictions_array)\n",
        "\n",
        "  # thisplot[predicted_label].set_color('red')\n",
        "  # thisplot[true_label].set_color('blue')"
      ],
      "execution_count": null,
      "outputs": []
    },
    {
      "cell_type": "markdown",
      "metadata": {
        "id": "pgf86jB-X1y5"
      },
      "source": [
        "# Tài Liệu Tham Khảo"
      ]
    },
    {
      "cell_type": "markdown",
      "metadata": {
        "id": "_6zaHTUDlc4k"
      },
      "source": [
        "[1] Aurélien Géron, Hands-On Machine Learning With Scikit-learn, Keras And Tensorflow, 2d Edition\n",
        "\n",
        "[2] [Dr.Daniel Bell - Epochs In Neural Network](https://radiopaedia.org/articles/epoch-machine-learning#:~:text=An%20epoch%20is%20a%20term,of%20data%20is%20very%20large)\n",
        "\n",
        "[3] [Cross-Entropy](https://machinelearningcoban.com/2017/02/17/softmax/#-cross-entropy)\n",
        "\n",
        "[4] [ReLU](https://blog.vietanhdev.com/posts/2019-09-23-cac-ham-kich-hoat-activation-function-trong-neural-networks/)\n",
        "\n",
        "[5] [Adam Optimizer](https://viblo.asia/p/thuat-toan-toi-uu-adam-aWj53k8Q56m)\n",
        "\n",
        "[6] [Các thư viện machine learning trong keras](https://thorpham.github.io/blog/2018/05/25/keras/?fbclid=IwAR1RvfDcuQThZt9SRYNrGPI_hJ66Y__o6cnTe9ik_oQ1mpoDBD-wD9AB_oQn)\n",
        "\n",
        "\n"
      ]
    }
  ]
}