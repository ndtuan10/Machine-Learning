{
  "nbformat": 4,
  "nbformat_minor": 0,
  "metadata": {
    "colab": {
      "name": "Fashion_MNIST.ipynb",
      "private_outputs": true,
      "provenance": [],
      "collapsed_sections": [],
      "include_colab_link": true
    },
    "kernelspec": {
      "display_name": "Python 3",
      "language": "python",
      "name": "python3"
    }
  },
  "cells": [
    {
      "cell_type": "markdown",
      "metadata": {
        "id": "view-in-github",
        "colab_type": "text"
      },
      "source": [
        "<a href=\"https://colab.research.google.com/github/ndtuan10/Machine-Learning/blob/main/DoAn/Fashion_MNIST.ipynb\" target=\"_parent\"><img src=\"https://colab.research.google.com/assets/colab-badge.svg\" alt=\"Open In Colab\"/></a>"
      ]
    },
    {
      "cell_type": "markdown",
      "metadata": {
        "id": "jYysdyb-CaWM"
      },
      "source": [
        "# Phân Loại hình ảnh trang phục qua phương pháp deep learning (Fashion MNIST)\n",
        "Môn : Máy học CS114\n",
        "\n",
        "Giáo viên : TS.Mai Tiến Dũng\n",
        "\n",
        "Thành viên :\n",
        "  + Nguyễn Tuấn Lộc (18521011)\n",
        "  + Lê Hoàng Long (18521027)\n",
        "  + Ngô Đức Tuấn (18520186)"
      ]
    },
    {
      "cell_type": "markdown",
      "metadata": {
        "id": "FbVhjPpzn6BM"
      },
      "source": [
        "Ở đồ án này, chúng ta sẽ xây dựng mô hình mạng Neuron phục vụ cho việc phân loại các kiểu trang phục cơ bản trong cuộc sống, qua đó biết được nhu cầu, sở thích của khách hàng trong việc lựa chọn trang phục.\n",
        "\n",
        "Các công cụ được sử dụng trong quá trình xây dựng mô hình :\n",
        "  + Ngôn ngữ lập trình : Python 3\n",
        "  + Môi trường IDE : Jupyter Notebook , Google Colaboratory\n",
        "  + Các thư viện :\n",
        "    - Thư viện máy học : tensorflow 2.0 , keras 2.3\n",
        "    - Thư viện hỗ trợ : Matplotlib, numpy, pandas\n",
        "\n"
      ]
    },
    {
      "cell_type": "code",
      "metadata": {
        "id": "SjrS4nhaAq1m"
      },
      "source": [
        "!rm -rf ./logs/ "
      ],
      "execution_count": null,
      "outputs": []
    },
    {
      "cell_type": "code",
      "metadata": {
        "id": "dzLKpmZICaWN"
      },
      "source": [
        "%load_ext tensorboard\n",
        "# Thư viện được sử dụng\n",
        "import tensorflow as tf\n",
        "from tensorflow import keras\n",
        "\n",
        "import numpy as np\n",
        "import matplotlib\n",
        "import matplotlib.pyplot as plt\n",
        "import pandas as pd\n",
        "print('''\n",
        "  Phiên bản của các thư viện :\n",
        "    + Tensorflow : {0}\n",
        "    + keras : {1}\n",
        "    + numpy : {2}\n",
        "    + matplotlib : {3}\n",
        "    + pandas : {4}\n",
        "'''.format(tf.__version__, keras.__version__, np.__version__, matplotlib.__version__, pd.__version__))\n"
      ],
      "execution_count": null,
      "outputs": []
    },
    {
      "cell_type": "markdown",
      "metadata": {
        "id": "yR0EdgrLCaWR"
      },
      "source": [
        "## 1/ Trích xuất dữ liệu trang phục Fashion MNIST"
      ]
    },
    {
      "cell_type": "markdown",
      "metadata": {
        "id": "DLdCchMdCaWQ"
      },
      "source": [
        "Chúng ta sẽ sử dụng dataset về trang phục từ [Fashion_MNIST](https://www.kaggle.com/zalando-research/fashionmnist), chứa khoảng 70,000 ảnh đen trắng phân thành 10 loại. Mỗi một ảnh là một loại quần áo hoặc giày dép với độ phân giải thấp (28 by 28 pixel), như hình minh hoạ bên dưới:\n",
        "![Image](https://github.com/zalandoresearch/fashion-mnist/raw/master/doc/img/fashion-mnist-sprite.png)\n",
        "\n",
        "Ngoài ra chúng ta có thể đọc phần mô tả về dataset này thông qua trang [Kaggle](https://www.kaggle.com/search?q=Fashion+MNIST+dataset).\n",
        "\n",
        "<table>\n",
        "  <tr><td>\n",
        "    <img src=\"https://github.com/zalandoresearch/fashion-mnist/raw/master/doc/img/embedding.gif\"\n",
        "         alt=\"Fashion MNIST sprite\"  width=\"600\">\n",
        "  </td></tr>\n",
        "  <tr><td align=\"center\">\n",
        "    <b> Fashion MNIST Dataset </b> \n",
        "  </td></tr>\n",
        "</table>\n",
        "\n",
        "\n",
        "Thay vì tải dữ liệu qua website [Kaggle](https://www.kaggle.com/search?q=Fashion+MNIST+dataset) , ta sẽ load dataset trực tiếp từ chính thư viện [keras](https://keras.io/api/datasets/fashion_mnist/) đã được tích hợp sẵn."
      ]
    },
    {
      "cell_type": "code",
      "metadata": {
        "id": "7MqDQO0KCaWS"
      },
      "source": [
        "fashion_mnist = keras.datasets.fashion_mnist\n",
        "(train_images, train_labels), (test_images, test_labels) = fashion_mnist.load_data()"
      ],
      "execution_count": null,
      "outputs": []
    },
    {
      "cell_type": "markdown",
      "metadata": {
        "id": "uEfdyvltp6oj"
      },
      "source": [
        "Sau khi tải, dữ liệu được trả về với kiểu dữ liệu numpy.ndarray (mảng n chiều) được gán cho 4 biến : \n",
        "\n",
        "*train_images* , *train_labels* , *test_images* , *test_labels*."
      ]
    },
    {
      "cell_type": "code",
      "metadata": {
        "id": "jBPuUc4sp0DY"
      },
      "source": [
        "type(train_images)"
      ],
      "execution_count": null,
      "outputs": []
    },
    {
      "cell_type": "markdown",
      "metadata": {
        "id": "Brm0b_KACaWX"
      },
      "source": [
        "##2/ Khai phá dữ liệu \n",
        "\n",
        "Chúng ta khám phá dữ liệu  trước khi huấn luyện mô hình. Câu lệnh sau sẽ cho ta thấy có 60.000 ảnh trong tập huấn luyện, với mỗi ảnh được biểu diễn theo dạng 28x28 pixel:"
      ]
    },
    {
      "cell_type": "code",
      "metadata": {
        "id": "zW5k_xz1CaWX"
      },
      "source": [
        "train_images.shape"
      ],
      "execution_count": null,
      "outputs": []
    },
    {
      "cell_type": "markdown",
      "metadata": {
        "id": "cIAcvQqMCaWf"
      },
      "source": [
        "Tương tự, tập huấn luyện cũng có 60.000 nhãn tương ứng:"
      ]
    },
    {
      "cell_type": "code",
      "metadata": {
        "id": "TRFYHB2mCaWb"
      },
      "source": [
        "len(train_labels)"
      ],
      "execution_count": null,
      "outputs": []
    },
    {
      "cell_type": "markdown",
      "metadata": {
        "id": "YSlYxFuRCaWk"
      },
      "source": [
        "Mỗi nhãn là một số nguyên từ 0 đến 9:"
      ]
    },
    {
      "cell_type": "code",
      "metadata": {
        "id": "XKnCTHz4CaWg"
      },
      "source": [
        "train_labels"
      ],
      "execution_count": null,
      "outputs": []
    },
    {
      "cell_type": "markdown",
      "metadata": {
        "id": "TMPI88iZpO2T"
      },
      "source": [
        "Ở tập kiểm tra Có 10.000 ảnh , mỗi ảnh cũng được biểu diễn ở dãng 28 x 28 pixel:"
      ]
    },
    {
      "cell_type": "code",
      "metadata": {
        "id": "2KFnYlcwCaWl"
      },
      "source": [
        "test_images.shape"
      ],
      "execution_count": null,
      "outputs": []
    },
    {
      "cell_type": "markdown",
      "metadata": {
        "id": "rd0A0Iu0CaWq"
      },
      "source": [
        "Và tập kiểm tra cũng chứa 10,000 nhãn:"
      ]
    },
    {
      "cell_type": "code",
      "metadata": {
        "id": "iJmPr5-ACaWn"
      },
      "source": [
        "len(test_labels)"
      ],
      "execution_count": null,
      "outputs": []
    },
    {
      "cell_type": "markdown",
      "metadata": {
        "id": "4klOrDISo7uu"
      },
      "source": [
        "Tập dữ liệu sau khi được tải sẽ trả về 4 mảng NumPy:\n",
        "\n",
        "* 2 mảng `train_images` và `train_labels` là *tập huấn luyện*. Mô hình sẽ học từ dữ liệu của 2 mảng này.\n",
        "* 2 mảng `test_images` vả `test_labels` là *tập kiểm thử*. Sau khi mô hình được huấn luyện xong, chúng ta sẽ chạy thử mô hình với dữ liệu đầu vào từ `test_images` để lấy kết quả, và so sánh kết quả đó với dữ liệu đối ứng từ `test_labels` để đánh giá độ chính xác của mô hình mạng neuron đã tạo.\n",
        "\n",
        "Mỗi ảnh là một mảng NumPy 2 chiều, 28x28, với mỗi pixel có giá trị từ 0 đến 255. *Nhãn* là một mảng của các số nguyên từ 0 đến 9, tương ứng với mỗi *lớp* quần áo giày dép:\n",
        "\n",
        "<table>\n",
        "  <tr>\n",
        "    <th>Nhãn</th><th>0</th><th>1</th><th>2</th><th>3</th><th>4</th><th>5</th><th>6</th><th>7</th><th>8</th><th>9</th>\n",
        "    \n",
        "  </tr>\n",
        "  <tr>\n",
        "    <td>Loại</td>\n",
        "    <td>Áo thun</td>\n",
        "    <td>Quần dài</td>\n",
        "    <td>Áo len</td>\n",
        "    <td>Váy</td>\n",
        "    <td>Áo khoác</td>\n",
        "    <td>Sandal</td>\n",
        "    <td>Áo sơ mi</td>\n",
        "    <td>Giày</td>\n",
        "    <td>Túi xách</td>\n",
        "    <td>Ủng </td>\n",
        "  </tr>\n",
        "</table>\n",
        "\n",
        "Mỗi ảnh sẽ được gán với một nhãn duy nhất. Vì tên của mỗi nhãn không có trong tập dữ liệu, nên chúng ta có thể định nghĩa ở đây như sau:"
      ]
    },
    {
      "cell_type": "code",
      "metadata": {
        "id": "HPFgyKW_pAhb"
      },
      "source": [
        "class_names = [\n",
        "               'Áo thun', 'Quần dài', 'Áo len', 'Váy', 'Áo khoác',\n",
        "               'Sandal', 'Áo sơ mi', 'Giày', 'Túi xách', 'Ủng'\n",
        "               ]"
      ],
      "execution_count": null,
      "outputs": []
    },
    {
      "cell_type": "markdown",
      "metadata": {
        "id": "ES6uQoLKCaWr"
      },
      "source": [
        "##3/ Tiền xử lý dữ liệu\n",
        "\n",
        "Dữ liệu cần được xử lý trước khi được dùng để huấn luyện mạng neuron. Phân tích ảnh đầu tiên trong tập dữ liệu, chúng ta sẽ thấy các pixel có giá trị từ 0 đến 255:"
      ]
    },
    {
      "cell_type": "code",
      "metadata": {
        "id": "m4VEw8Ud9Quh"
      },
      "source": [
        "plt.figure()\n",
        "plt.imshow(train_images[0], cmap=\"inferno\")\n",
        "plt.colorbar()\n",
        "plt.show()"
      ],
      "execution_count": null,
      "outputs": []
    },
    {
      "cell_type": "markdown",
      "metadata": {
        "id": "Wz7l27Lz9S1P"
      },
      "source": [
        "Chúng ta cần xử lý để mỗi một điểm ảnh có giá trị nằm trong khoảng từ 0 đến 1 (tức trong khoảng là 0% đến 100%). Để làm điều này, chúng ta chỉ cần lấy giá trị của pixel chia cho 255. Cần lưu ý rằng việc tiền xử lý này phải được áp dụng đồng thời cho cả *tập huấn luyện* và *tập kiểm thử*:"
      ]
    },
    {
      "cell_type": "code",
      "metadata": {
        "id": "bW5WzIPlCaWv"
      },
      "source": [
        "train_images = train_images / 255.0\n",
        "\n",
        "test_images = test_images / 255.0"
      ],
      "execution_count": null,
      "outputs": []
    },
    {
      "cell_type": "markdown",
      "metadata": {
        "id": "Ee638AlnCaWz"
      },
      "source": [
        "Để chắc chắn việc tiền xử lý diễn ra chính xác, chúng ta có thể in ra 25 ảnh đầu trong *tập huấn luyện* cùng với tên lớp dưới mỗi ảnh."
      ]
    },
    {
      "cell_type": "code",
      "metadata": {
        "id": "oZTImqg_CaW1"
      },
      "source": [
        "plt.figure(figsize=(10,10))\n",
        "for i in range(25):\n",
        "    plt.subplot(5,5,i+1)\n",
        "    plt.xticks([])\n",
        "    plt.yticks([])\n",
        "    plt.grid(False)\n",
        "    plt.imshow(train_images[i], cmap=plt.cm.binary)\n",
        "    plt.xlabel(class_names[train_labels[i]])\n",
        "plt.show()"
      ],
      "execution_count": null,
      "outputs": []
    },
    {
      "cell_type": "markdown",
      "metadata": {
        "id": "59veuiEZCaW4"
      },
      "source": [
        "##4/ Xây dựng mô hình\n",
        "\n",
        "Để xây dựng mạng neuron, chúng tay cần thiết lập các layer của mô hình, và sau đó biên dịch mô hình."
      ]
    },
    {
      "cell_type": "markdown",
      "metadata": {
        "id": "Gxg1XGm0eOBy"
      },
      "source": [
        "### 4.1Thiết lập các layers\n",
        "\n",
        "Thành phần cơ bản của một mạng neuron là các *layer*. Các layer trích xuất các điểm đặc biệt từ dữ liệu mà chúng đón nhận. Khi thực hiện tốt, những điểm đặc biệt này mang nhiều ý nghĩa và phục vụ cho toán của chúng ta.\n",
        "\n",
        "Đa số các mô hình deep learning đều chứa các layer đơn gian được xâu chuỗi lại với nhau. Đa số các layer, ví dụ `tf.keras.layers.Dense`, đều có các trọng số sẽ được học trong quá trình huấn luyện.\n"
      ]
    },
    {
      "cell_type": "code",
      "metadata": {
        "id": "9ODch-OFCaW4"
      },
      "source": [
        "model = keras.Sequential([\n",
        "    keras.layers.Flatten(input_shape=(28, 28)),\n",
        "    keras.layers.Dense(128, activation='relu'),\n",
        "    keras.layers.Dense(10, activation='softmax')\n",
        "])\n",
        "\n",
        "# model = keras.Sequential([\n",
        "#     keras.layers.Flatten(input_shape=(28, 28)),\n",
        "#     keras.layers.Dense(128, activation='relu'),\n",
        "#     keras.layers.Dense(200, activation='relu'),\n",
        "#     keras.layers.Dense(10, activation='softmax')\n",
        "# ])"
      ],
      "execution_count": null,
      "outputs": []
    },
    {
      "cell_type": "markdown",
      "metadata": {
        "id": "dkksmTuGxfFp"
      },
      "source": [
        "Mô hình mạng neuron cơ bản luôn có 3 lớp chính :\n",
        "+ Lớp Input : Xác định hình dạng dữ liệu đầu vào cho mô hình.\n",
        "+ Lớp Hidden : Dùng để tính toán , xây dựng kết nối các neuron lại với nhau. Khác với 2 lớp Input, Output được xây dựng, thiết kế cố định dựa trên dataset. Ở lớp này, ta có thể thiết kế nhiều lớp, mỗi lớp có nhiều neuron tuỳ ý. Tuy nhiên khi số lượng hay độ phức tạp ở lớp ẩn càng cao, thì độ chính xác càng tăng, thời gian huấn luyện càng lâu. Ngoài ra khi mô hình ở lớp này quá phức tạp sẽ gây ra hiện tượng quá khớp làm giảm độ chính xác của mô hình. Ngược lại khi mô hình lớp ẩn quá đơn giản, thì các nhãn được phân loại sẽ không có độ chính xác cao .\n",
        "+ Lớp Output : Các nhãn cần dự đoán . \n",
        "<table>\n",
        "  <tr><td>\n",
        "    <img src=\"https://www.tutorialspoint.com/machine_learning/images/artificial_neural_networks.jpg\"\n",
        "         alt=\"Fashion MNIST sprite\"  width=\"600\">\n",
        "  </td></tr>\n",
        "  <tr><td align=\"center\">\n",
        "    <b>Figure 2.</b> <a href=\"https://www.tutorialspoint.com/machine_learning/images/artificial_neural_networks.jpg\">Minh hoạ mô hình mạng Neuron</a> <br/>&nbsp;\n",
        "  </td></tr>\n",
        "</table>"
      ]
    },
    {
      "cell_type": "code",
      "metadata": {
        "id": "MBFD0JpTsFbt"
      },
      "source": [
        "model.summary()"
      ],
      "execution_count": null,
      "outputs": []
    },
    {
      "cell_type": "markdown",
      "metadata": {
        "id": "gut8A_7rCaW6"
      },
      "source": [
        "Trong mô hình mạng neuron được thiết kế như trên, lớp Input , `tf.keras.layers.Flatten`, chuyển đổi định dạng của hình ảnh từ mảng hai chiều (28x28) thành mảng một chiều (28x28 = 784). Công việc của layer này là cắt từng dòng của ảnh, và ghép nối lại thành một dòng duy nhất nhưng dài gấp 28 lần. Lớp  có nhiệm vụ chính là định dạng lại dữ liệu.Sau đây chúng ta sẽ phân tính lần lượt 3 lớp chính của mạng neuron.\n",
        "\n",
        "+ Lớp Input : Sau khi  được làm \"phẳng\" (từ mảng 2 chiều thành mảng 1 chiều), phần mạng neuron còn lại gồm một chuỗi hai layer `tf.keras.layers.Dense`. Đây là các layer neuron được kết nối hoàn toàn (mỗi một neuron của layer này kết nối đến tất cả các neuron của lớp trước và sau nó). \n",
        "\n",
        "+ Layer `Dense` đầu tiên hay còn gọi là lớp ẩn ( Hidden Layer ) có 128 neuron. \n",
        "\n",
        "+ Layer cuối cùng hay còn gọi là lớp Output có 10 nút, với mỗi nút tương đương với mỗi nhãn mà ta đã xác định ở trên bao gồm các giá trị từ *0 đến 10*. Mỗi nút chứa một giá trị cho biết xác suất hình ảnh hiện tại thuộc về một trong 10 lớp, , và tổng các giá trị của 10 nút này là 1 (tương đương 100%)\n",
        "\n",
        "###4.2 Biên dịch mô hình\n",
        "\n",
        "Trước khi mô hình có thể được huấn luyện, chúng ta cần thêm các hàm toán học giúp cho việc đánh giá hay làm mô hình đi \" đúng hướng \". Các chỉnh sửa này được thêm vào trong bước *biên dịch* của mô hình:\n",
        "\n",
        "* *Hàm mất mát* — dùng để tính toán \"độ sai sót\" của mô hình trong quá trình huấn luyện và dự đoán. Chúng ta cần phải làm cho nghiệm của hàm này nhỏ nhất để kiểm soát mô hình đi đúng hướng. (mất mát càng ít, chính xác càng cao).\n",
        "* *Hàm tối ưu* — Đây là \"công cụ\" để làm hàm mất mát có nghiệm nhỏ nhất, qua việc cập nhật và chỉnh sửa các tham số có trong hàm mất mát.\n",
        "* *Thang đo* — dùng để đo đạc độ chính xác qua mỗi quá trình huấn luyện và kiểm tra. Chúng ta sẽ sử dụng phép đo *accuracy*, nhằm nắm được tỉ lệ ảnh được phân loại chính xác."
      ]
    },
    {
      "cell_type": "code",
      "metadata": {
        "id": "Lhan11blCaW7"
      },
      "source": [
        "model.compile(optimizer='adam',\n",
        "              loss='sparse_categorical_crossentropy',\n",
        "              metrics=['accuracy'])"
      ],
      "execution_count": null,
      "outputs": []
    },
    {
      "cell_type": "markdown",
      "metadata": {
        "id": "qKF6uW-BCaW-"
      },
      "source": [
        "##5/ Huấn luyện mô hình\n",
        "\n",
        "Huấn luyện mô hình mạng neuron cần các bước sau:\n",
        "\n",
        "1. Cung cấp dữ liệu huấn luyện cho mô hình. Trong ví dụ này, dữ liệu huấn luyện năm trong 2 mảng `train_images` và `train_labels`. Ngoài ra chúng ta sẽ trích 30% dữ liệu huấn luyện cho dữ liệu validation để làm tập kiểm tra -> mô hình có tính \"Khách quan\" .\n",
        "2. Mô hình sẽ học cách liên kết ảnh với nhãn.\n",
        "3. Chúng ta sẽ yêu cầu mô hình đưa ra dự đoán từ dữ liệu của tập kiểm thử, trong ví dụ này là mảng `test_images`, sau đó lấy kết quả dự đoán đối chiếu với nhãn trong mảng `test_labels`.\n",
        "\n",
        "\n",
        "Để bắt đầu huấn luyện, gọi hàm `model.fit`. Hàm này được đặt tên `fit` vì nó sẽ \"khớp\" mô hình với dữ liệu huấn luyện:"
      ]
    },
    {
      "cell_type": "code",
      "metadata": {
        "id": "xvwvpA64CaW_"
      },
      "source": [
        "import datetime\n",
        "log_dir = \"logs/fit/\" + datetime.datetime.now().strftime(\"%Y%m%d-%H%M%S\")\n",
        "tensorboard_callback = tf.keras.callbacks.TensorBoard(log_dir=log_dir, histogram_freq=1)\n",
        "\n",
        "history = model.fit(train_images, train_labels, validation_split=0.3, epochs=10, batch_size=10,  callbacks=[tensorboard_callback])"
      ],
      "execution_count": null,
      "outputs": []
    },
    {
      "cell_type": "markdown",
      "metadata": {
        "id": "W3ZVOhugCaXA"
      },
      "source": [
        "Trong quá trình huấn luyện, các số liệu mất mát và chính xác được liệt kê trong từng quá trình lặp (epoch). Sau khi quan sát tới lần lặp cuối cùng, ta thấy độ chính xác là khá cao dao động ở mức 92%."
      ]
    },
    {
      "cell_type": "code",
      "metadata": {
        "id": "4_NsHA2TSZUY"
      },
      "source": [
        "plt.figure(figsize = (20,5))\n",
        "\n",
        "plt.subplot(1,2,1)\n",
        "plt.plot(history.history['accuracy'])\n",
        "plt.plot(history.history['val_accuracy'])\n",
        "plt.title('Training and Validation Accuracy')\n",
        "plt.ylabel('Accuracy')\n",
        "plt.xlabel('Epoch')\n",
        "plt.legend(['Training Accuracy', 'Validation Accuracy'], loc='upper left')\n",
        "\n",
        "\n",
        "plt.subplot(1,2,2)\n",
        "plt.plot(history.history['loss'])\n",
        "plt.plot(history.history['val_loss'])\n",
        "plt.title('Training and Validation Loss')\n",
        "plt.ylabel('Loss')\n",
        "plt.xlabel('Epoch')\n",
        "plt.legend(['Train Loss', 'Validation Loss'], loc='upper right')\n",
        "plt.show()"
      ],
      "execution_count": null,
      "outputs": []
    },
    {
      "cell_type": "markdown",
      "metadata": {
        "id": "2-r-txgoSwD8"
      },
      "source": [
        "Overfitting xảy ra khi một mô hình máy học hoạt động cực kì chính xác trên dữ liệu huấn luyện nhưng lại rất kém khi được cung cấp các dữ liệu vào mới, tức dữ liệu mà mô hình chưa từng \"thấy\" trước đây.\n",
        "\n",
        "Qua 2 biểu đồ trên, ta nhận thấy sự khác biệt trong tỷ lệ chính xác và mất \n",
        "mát giữa 2 tập dữ liệu là không quá cao. Do vậy, hiện tượng quá khớp ( Overfitting ) không xảy ra."
      ]
    },
    {
      "cell_type": "markdown",
      "metadata": {
        "id": "oEw4bZgGCaXB"
      },
      "source": [
        "##6/ Đánh giá mô hình\n",
        "\n",
        "Tiếp theo, chúng đánh giá chất lượng của mô hình bằng tập kiểm tra :"
      ]
    },
    {
      "cell_type": "code",
      "metadata": {
        "id": "yvr7obW7UYZI"
      },
      "source": [
        "model.evaluate(test_images, test_labels)"
      ],
      "execution_count": null,
      "outputs": []
    },
    {
      "cell_type": "markdown",
      "metadata": {
        "id": "yWfgsmVXCaXG"
      },
      "source": [
        "Đến thời điểm này, chúng ta thấy rằng tỉ lệ chính xác của mô hình qua đánh giá bằng tập kiểm thử là khá khớp so với tập huấn luyện ở trên (gần 88%). Sự chệnh lệch trong thang đo accuracy của tập kiểm tra với tập huấn luyện là không cao. Do đó hiện tưởng xảy ra *Overfitting* là không cao."
      ]
    },
    {
      "cell_type": "markdown",
      "metadata": {
        "id": "xsoS7CPDCaXH"
      },
      "source": [
        "##7/ Demo dự đoán \n",
        "\n",
        "Với một mô hình đã được đào tạo, chúng ta có thể dùng nó để đưa ra dự đoán với một số ảnh."
      ]
    },
    {
      "cell_type": "code",
      "metadata": {
        "id": "Gl91RPhdCaXI"
      },
      "source": [
        "predictions = model.predict(test_images)"
      ],
      "execution_count": null,
      "outputs": []
    },
    {
      "cell_type": "markdown",
      "metadata": {
        "id": "x9Kk1voUCaXJ"
      },
      "source": [
        "Ở đây, mô hình sẽ dự đoán nhãn cho từng hình ảnh trong bộ thử nghiệm. Hãy xem dự đoán đầu tiên:"
      ]
    },
    {
      "cell_type": "code",
      "metadata": {
        "id": "3DmJEUinCaXK"
      },
      "source": [
        "predictions[0]"
      ],
      "execution_count": null,
      "outputs": []
    },
    {
      "cell_type": "markdown",
      "metadata": {
        "id": "-hw1hgeSCaXN"
      },
      "source": [
        "Trong ví dụ này, dự đoán là một mảng 10 số thực, mỗi số tương ứng với \"độ tự tin\" của mô hình rằng ảnh đó thuộc về nhãn đó. Chúng ta có thể thấy nhãn nào có độ tư tin cao nhất:"
      ]
    },
    {
      "cell_type": "code",
      "metadata": {
        "id": "qsqenuPnCaXO"
      },
      "source": [
        "np.argmax(predictions[0])"
      ],
      "execution_count": null,
      "outputs": []
    },
    {
      "cell_type": "markdown",
      "metadata": {
        "id": "E51yS7iCCaXO"
      },
      "source": [
        "Vậy là mô hình tự tin nhất rằng ảnh này là một loại ủng, hoặc `class_names[9]`. Đối chiếu với nhãn trong tập kiểm thử, ta thấy dự đoán này là đúng:"
      ]
    },
    {
      "cell_type": "code",
      "metadata": {
        "id": "Sd7Pgsu6CaXP"
      },
      "source": [
        "test_labels[0]"
      ],
      "execution_count": null,
      "outputs": []
    },
    {
      "cell_type": "markdown",
      "metadata": {
        "id": "ygh2yYC972ne"
      },
      "source": [
        "Ta sẽ trực quan hoá dữ liệu để xem các dự đoán trên cả 10 lớp của mô hình."
      ]
    },
    {
      "cell_type": "code",
      "metadata": {
        "id": "DvYmmrpIy6Y1"
      },
      "source": [
        "def plot_image(i, predictions_array, true_label, img):\n",
        "  predictions_array, true_label, img = predictions_array, true_label[i], img[i]\n",
        "  plt.grid(False)\n",
        "  plt.xticks([])\n",
        "  plt.yticks([])\n",
        "\n",
        "  plt.imshow(img, cmap=plt.cm.binary)\n",
        "\n",
        "  predicted_label = np.argmax(predictions_array)\n",
        "  if predicted_label == true_label:\n",
        "    color = 'blue'\n",
        "  else:\n",
        "    color = 'red'\n",
        "\n",
        "  plt.xlabel(\"{} {:2.0f}% ({})\".format(class_names[predicted_label],\n",
        "                                100*np.max(predictions_array),\n",
        "                                class_names[true_label]),\n",
        "                                color=color)\n",
        "\n",
        "def plot_value_array(i, predictions_array, true_label):\n",
        "  predictions_array, true_label = predictions_array, true_label[i]\n",
        "  plt.grid(False)\n",
        "  plt.xticks(range(10))\n",
        "  plt.yticks([])\n",
        "  thisplot = plt.bar(range(10), predictions_array, color=\"#777777\")\n",
        "  plt.ylim([0, 1])\n",
        "  predicted_label = np.argmax(predictions_array)\n",
        "\n",
        "  thisplot[predicted_label].set_color('red')\n",
        "  thisplot[true_label].set_color('blue')"
      ],
      "execution_count": null,
      "outputs": []
    },
    {
      "cell_type": "markdown",
      "metadata": {
        "id": "d4Ov9OFDMmOD"
      },
      "source": [
        "Chúng ta có thể nhìn vào ảnh 0th, các dự đoán, và mảng dự đoán.\n",
        "Nhãn dự đoán đúng màu xanh và nhãn sai màu đỏ. Con số là số phần trăm của các nhãn được dự đoán."
      ]
    },
    {
      "cell_type": "code",
      "metadata": {
        "id": "HV5jw-5HwSmO"
      },
      "source": [
        "i = 8999\n",
        "plt.figure(figsize= (6,3))\n",
        "plt.subplot(1,2,1)\n",
        "plot_image(i, predictions[i], test_labels, test_images)\n",
        "plt.subplot(1,2,2)\n",
        "plot_value_array(i, predictions[i],  test_labels)\n",
        "plt.show()"
      ],
      "execution_count": null,
      "outputs": []
    },
    {
      "cell_type": "code",
      "metadata": {
        "id": "Ko-uzOufSCSe"
      },
      "source": [
        "i = 12\n",
        "plt.figure(figsize= (6,3))\n",
        "plt.subplot(1,2,1)\n",
        "plot_image(i, predictions[i], test_labels, test_images)\n",
        "plt.subplot(1,2,2)\n",
        "plot_value_array(i, predictions[i],  test_labels)\n",
        "plt.show()"
      ],
      "execution_count": null,
      "outputs": []
    },
    {
      "cell_type": "markdown",
      "metadata": {
        "id": "kgdvGD52CaXR"
      },
      "source": [
        "Thử vẽ biểu đồ với vài ảnh và dự đoán đi kèm. Chú ý thấy rằng mô hình đôi khi dự đoán sai dù điểm tự tin rất cao."
      ]
    },
    {
      "cell_type": "code",
      "metadata": {
        "id": "hQlnbqaw2Qu_"
      },
      "source": [
        "# Plot the first X test images, their predicted labels, and the true labels.\n",
        "# Color correct predictions in blue and incorrect predictions in red.\n",
        "num_rows = 5\n",
        "num_cols = 3\n",
        "num_images = num_rows*num_cols\n",
        "plt.figure(figsize= (2*2*num_cols, 2*num_rows))\n",
        "for i in range(num_images):\n",
        "  plt.subplot(num_rows, 2*num_cols, 2*i+1)\n",
        "  plot_image(i, predictions[i], test_labels, test_images)\n",
        "  plt.subplot(num_rows, 2*num_cols, 2*i+2)\n",
        "  plot_value_array(i, predictions[i], test_labels)\n",
        "plt.tight_layout()\n",
        "plt.show()"
      ],
      "execution_count": null,
      "outputs": []
    },
    {
      "cell_type": "markdown",
      "metadata": {
        "id": "R32zteKHCaXT"
      },
      "source": [
        "Cuối cùng, dùng mô hình để đưa ra dự đoán về một ảnh duy nhất."
      ]
    },
    {
      "cell_type": "code",
      "metadata": {
        "id": "yRJ7JU7JCaXT"
      },
      "source": [
        "# Grab an image from the test dataset.\n",
        "img = test_images[1]\n",
        "\n",
        "print(img.shape)"
      ],
      "execution_count": null,
      "outputs": []
    },
    {
      "cell_type": "markdown",
      "metadata": {
        "id": "vz3bVp21CaXV"
      },
      "source": [
        "Các mô hình `tf.keras` được tối ưu hóa để đưa ra dự đoán về một *lô* hoặc bộ sưu tập các ví dụ cùng một lúc. Theo đó, mặc dù bạn đang sử dụng một ảnh duy nhất, bạn cần thêm nó vào list:"
      ]
    },
    {
      "cell_type": "code",
      "metadata": {
        "id": "lDFh5yF_CaXW"
      },
      "source": [
        "# Add the image to a batch where it's the only member.\n",
        "img = (np.expand_dims(img,0))\n",
        "\n",
        "print(img.shape)"
      ],
      "execution_count": null,
      "outputs": []
    },
    {
      "cell_type": "markdown",
      "metadata": {
        "id": "EQ5wLTkcCaXY"
      },
      "source": [
        "Dự đoán nhãn cho ảnh này:"
      ]
    },
    {
      "cell_type": "code",
      "metadata": {
        "id": "o_rzNSdrCaXY"
      },
      "source": [
        "predictions_single = model.predict(img)\n",
        "\n",
        "print(predictions_single)"
      ],
      "execution_count": null,
      "outputs": []
    },
    {
      "cell_type": "code",
      "metadata": {
        "id": "6Ai-cpLjO-3A"
      },
      "source": [
        "plot_value_array(1, predictions_single[0], test_labels)\n",
        "_ = plt.xticks(range(10), class_names, rotation=45)"
      ],
      "execution_count": null,
      "outputs": []
    },
    {
      "cell_type": "markdown",
      "metadata": {
        "id": "cU1Y2OAMCaXb"
      },
      "source": [
        "`model.predict` trả về một list của lists — mỗi list cho mỗi ảnh trong lô dữ liệu. Lấy dự đoán cho hình ảnh trong lô:"
      ]
    },
    {
      "cell_type": "code",
      "metadata": {
        "id": "2tRmdq_8CaXb"
      },
      "source": [
        "np.argmax(predictions_single[0])"
      ],
      "execution_count": null,
      "outputs": []
    },
    {
      "cell_type": "code",
      "metadata": {
        "id": "zvjExqNXBIaj"
      },
      "source": [
        "%tensorboard --logdir logs/fit"
      ],
      "execution_count": null,
      "outputs": []
    },
    {
      "cell_type": "markdown",
      "metadata": {
        "id": "sRu1Tfe8hdRM"
      },
      "source": [
        "  **Hình ảnh thực tiễn**\n",
        "\n",
        "Để thêm thách thức cho mô hình mạng neural, Chúng ta sẽ cho nó phân tích và đưa ra dự đoán cho dữ liệu thực tiễn.\n",
        "![image.png](data:image/png;base64,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)"
      ]
    },
    {
      "cell_type": "code",
      "metadata": {
        "id": "9flbE_IX2q92"
      },
      "source": [
        "from PIL import Image, ImageFilter\n",
        "\n",
        "\n",
        "def imageprepare( file_path):\n",
        "    im = Image.open('image.png').convert('L')\n",
        "    width = float(im.size[0])\n",
        "    height = float(im.size[1])\n",
        "    newImage = Image.new('L', (28, 28), (255))  # creates white canvas of 28x28 pixels\n",
        "\n",
        "    if width > height:  # check which dimension is bigger\n",
        "        # Width is bigger. Width becomes 20 pixels.\n",
        "        nheight = int(round((20.0 / width * height), 0))  # resize height according to ratio width\n",
        "        if (nheight == 0):  # rare case but minimum is 1 pixel\n",
        "            nheight = 1\n",
        "            # resize and sharpen\n",
        "        img = im.resize((20, nheight), Image.ANTIALIAS).filter(ImageFilter.SHARPEN)\n",
        "        wtop = int(round(((28 - nheight) / 2), 0))  # calculate horizontal position\n",
        "        newImage.paste(img, (4, wtop))  # paste resized image on white canvas\n",
        "    else:\n",
        "        # Height is bigger. Heigth becomes 20 pixels.\n",
        "        nwidth = int(round((20.0 / height * width), 0))  # resize width according to ratio height\n",
        "        if (nwidth == 0):  # rare case but minimum is 1 pixel\n",
        "            nwidth = 1\n",
        "            # resize and sharpen\n",
        "        img = im.resize((nwidth, 20), Image.ANTIALIAS).filter(ImageFilter.SHARPEN)\n",
        "        wleft = int(round(((28 - nwidth) / 2), 0))  # caculate vertical pozition\n",
        "        newImage.paste(img, (wleft, 4))  # paste resized image on white canvas\n",
        "\n",
        "    # newImage.save(\"sample.png\n",
        "\n",
        "    tv = list(newImage.getdata())  # get pixel values\n",
        "\n",
        "    # normalize pixels to 0 and 1. 0 is pure white, 1 is pure black.\n",
        "    tva = [(255 - x) * 1.0 / 255.0 for x in tv]\n",
        "    # print(tva)\n",
        "    return tva\n",
        "\n",
        "x=[imageprepare('./image.png')]#file path here\n",
        "print(len(x))# mnist IMAGES are 28x28=784 pixels\n",
        "print(x[0])\n",
        "# converting 784 sized 1d array to 24x24 sized 2d array \n",
        "newArr=[[0 for d in range(28)] for y in range(28)]\n",
        "k = 0\n",
        "for i in range(28):\n",
        "    for j in range(28):\n",
        "        newArr[i][j]=x[0][k]\n",
        "        k=k+1\n",
        "\n"
      ],
      "execution_count": null,
      "outputs": []
    },
    {
      "cell_type": "markdown",
      "metadata": {
        "id": "F4AhC8gLjLU9"
      },
      "source": [
        "Ngoài ra chúng ta cần phải điều chỉnh hình dạng, và kiểu dữ liệu ảnh thực phù hợp với lớp input của mô hình."
      ]
    },
    {
      "cell_type": "code",
      "metadata": {
        "id": "Cv2frYALiH-n"
      },
      "source": [
        "arr=np.array(newArr)\n",
        "print(arr.shape)\n",
        "arr = (np.expand_dims(arr,0))\n",
        "print(arr.shape)\n",
        "print(type(arr))"
      ],
      "execution_count": null,
      "outputs": []
    },
    {
      "cell_type": "markdown",
      "metadata": {
        "id": "hEp1IFbbmNnU"
      },
      "source": [
        "Gán kết quả vào biến demo"
      ]
    },
    {
      "cell_type": "code",
      "metadata": {
        "id": "gWPHEpMiKEjm"
      },
      "source": [
        "demo = model.predict(arr)"
      ],
      "execution_count": null,
      "outputs": []
    },
    {
      "cell_type": "markdown",
      "metadata": {
        "id": "wW07U6I7pDXa"
      },
      "source": [
        "**Và kết quà làaaaa**"
      ]
    },
    {
      "cell_type": "code",
      "metadata": {
        "id": "egKPYKr0mr-k"
      },
      "source": [
        "class_names[np.argmax(demo)]"
      ],
      "execution_count": null,
      "outputs": []
    },
    {
      "cell_type": "code",
      "metadata": {
        "id": "P6ufwEm_mxQk"
      },
      "source": [
        "plt.imshow(newArr)\n",
        "plt.show()"
      ],
      "execution_count": null,
      "outputs": []
    },
    {
      "cell_type": "code",
      "metadata": {
        "id": "bpV4rVnanAo2"
      },
      "source": [
        "demo = demo.reshape(10)"
      ],
      "execution_count": null,
      "outputs": []
    },
    {
      "cell_type": "code",
      "metadata": {
        "id": "IM3XWj-Um4wY"
      },
      "source": [
        "  # predictions_array, true_label = demo, class_names[np.argmax(demo)]\n",
        "plt.grid(False)\n",
        "plt.xticks(range(10))\n",
        "plt.yticks([])\n",
        "plt.bar(range(10), demo)\n",
        "plt.ylim([0, 1])\n",
        "  # predicted_label = np.argmax(predictions_array)\n",
        "_ = plt.xticks(range(10), class_names, rotation=45)\n",
        "  # thisplot[predicted_label].set_color('red')\n",
        "  # thisplot[true_label].set_color('blue')\n",
        "plt.show()\n",
        "\n",
        "\n",
        "  # predictions_array, true_label = predictions_array, true_label[i]\n",
        "  # plt.grid(False)\n",
        "  # plt.xticks(range(10))\n",
        "  # plt.yticks([])\n",
        "  # thisplot = plt.bar(range(10), predictions_array, color=\"#777777\")\n",
        "  # plt.ylim([0, 1])\n",
        "  # predicted_label = np.argmax(predictions_array)\n",
        "\n",
        "  # thisplot[predicted_label].set_color('red')\n",
        "  # thisplot[true_label].set_color('blue')"
      ],
      "execution_count": null,
      "outputs": []
    },
    {
      "cell_type": "markdown",
      "metadata": {
        "id": "pgf86jB-X1y5"
      },
      "source": [
        "# Tài Liệu Tham Khảo"
      ]
    },
    {
      "cell_type": "markdown",
      "metadata": {
        "id": "_6zaHTUDlc4k"
      },
      "source": [
        "[1] Aurélien Géron, Hands-On Machine Learning With Scikit-learn, Keras And Tensorflow, 2d Edition\n",
        "\n",
        "[2] [Dr.Daniel Bell - Epochs In Neural Network](https://radiopaedia.org/articles/epoch-machine-learning#:~:text=An%20epoch%20is%20a%20term,of%20data%20is%20very%20large)\n",
        "\n",
        "[3] [Cross-Entropy](https://machinelearningcoban.com/2017/02/17/softmax/#-cross-entropy)\n",
        "\n",
        "[4] [ReLU](https://blog.vietanhdev.com/posts/2019-09-23-cac-ham-kich-hoat-activation-function-trong-neural-networks/)\n",
        "\n",
        "[5] [Adam Optimizer](https://viblo.asia/p/thuat-toan-toi-uu-adam-aWj53k8Q56m)\n",
        "\n",
        "[6] [Các thư viện machine learning trong keras](https://thorpham.github.io/blog/2018/05/25/keras/?fbclid=IwAR1RvfDcuQThZt9SRYNrGPI_hJ66Y__o6cnTe9ik_oQ1mpoDBD-wD9AB_oQn)\n",
        "\n",
        "\n"
      ]
    }
  ]
}